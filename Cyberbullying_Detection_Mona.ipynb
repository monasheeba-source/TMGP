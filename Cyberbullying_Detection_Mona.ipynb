{
 "cells": [
  {
   "cell_type": "markdown",
   "id": "6452277a",
   "metadata": {},
   "source": [
    "# 🚨 Project 1: Cyberbullying Detection\n",
    "\n",
    "🧾**Description:** This dataset is a collection of datasets from different sources related to the automatic detection of cyber-bullying. The data is from different social media platforms like Kaggle, Twitter, Wikipedia Talk pages, and YouTube. The data contains text and are labeled as bullying or not. The data contains different types of cyber-bullying like hate speech, aggression, insults, and toxicity. You have been provided with the twitter\\_parsed tweets dataset, wherein you have to classify whether the tweet is toxic or not.\n",
    "\n",
    "source of dataset & data dictionary - https://www.kaggle.com/code/sndpkirwai/cyberbully-detection-text-classification/data\n",
    "\n",
    "🧭 **Problem Statement:** You are provided with **twitter\\_parsed\\_tweets**: you have to perform a step-by-step NLP approach to identify the toxicity of the tweet, and classify the tweet in a binary value. \n",
    "\n",
    "The target variable is **oh-label** and the evaluation metric is **F1-score**."
   ]
  },
  {
   "cell_type": "code",
   "execution_count": 1,
   "id": "e7c801aa",
   "metadata": {},
   "outputs": [],
   "source": [
    "# dependencies\n",
    "import re\n",
    "import string\n",
    "import pandas as pd\n",
    "#import tweepy\n",
    "import json\n",
    "import requests\n",
    "import os\n",
    "import numpy as np\n",
    "import matplotlib.pyplot as plt\n",
    "import seaborn as sns\n",
    "import zipfile\n",
    "from nltk.corpus import stopwords\n",
    "from sklearn.model_selection import train_test_split\n",
    "\n",
    "from sklearn.model_selection import train_test_split, GridSearchCV\n",
    "from sklearn.feature_extraction.text import CountVectorizer\n",
    "from sklearn.metrics import f1_score, accuracy_score, precision_score, recall_score, make_scorer\n",
    "from time import time\n",
    "\n",
    "from sklearn.naive_bayes import MultinomialNB\n",
    "from sklearn.tree import DecisionTreeClassifier\n",
    "from sklearn.svm import LinearSVC\n",
    "from sklearn.ensemble import AdaBoostClassifier, RandomForestClassifier, BaggingClassifier\n",
    "from sklearn.linear_model import LogisticRegression, SGDClassifier\n",
    "from sklearn.neighbors import KNeighborsClassifier\n",
    "#from sklearn.externals \n",
    "import joblib"
   ]
  },
  {
   "cell_type": "code",
   "execution_count": 2,
   "id": "822581d4",
   "metadata": {},
   "outputs": [
    {
     "data": {
      "text/html": [
       "<div>\n",
       "<style scoped>\n",
       "    .dataframe tbody tr th:only-of-type {\n",
       "        vertical-align: middle;\n",
       "    }\n",
       "\n",
       "    .dataframe tbody tr th {\n",
       "        vertical-align: top;\n",
       "    }\n",
       "\n",
       "    .dataframe thead th {\n",
       "        text-align: right;\n",
       "    }\n",
       "</style>\n",
       "<table border=\"1\" class=\"dataframe\">\n",
       "  <thead>\n",
       "    <tr style=\"text-align: right;\">\n",
       "      <th></th>\n",
       "      <th>index</th>\n",
       "      <th>id</th>\n",
       "      <th>Text</th>\n",
       "      <th>Annotation</th>\n",
       "      <th>oh_label</th>\n",
       "    </tr>\n",
       "  </thead>\n",
       "  <tbody>\n",
       "    <tr>\n",
       "      <th>0</th>\n",
       "      <td>5.74948705591165E+017</td>\n",
       "      <td>5.74948705591165E+017</td>\n",
       "      <td>@halalflaws @biebervalue @greenlinerzjm I read...</td>\n",
       "      <td>none</td>\n",
       "      <td>0.0</td>\n",
       "    </tr>\n",
       "    <tr>\n",
       "      <th>1</th>\n",
       "      <td>5.71917888690393E+017</td>\n",
       "      <td>5.71917888690393E+017</td>\n",
       "      <td>@ShreyaBafna3 Now you idiots claim that people...</td>\n",
       "      <td>none</td>\n",
       "      <td>0.0</td>\n",
       "    </tr>\n",
       "    <tr>\n",
       "      <th>2</th>\n",
       "      <td>3.90255841338601E+017</td>\n",
       "      <td>3.90255841338601E+017</td>\n",
       "      <td>RT @Mooseoftorment Call me sexist, but when I ...</td>\n",
       "      <td>sexism</td>\n",
       "      <td>1.0</td>\n",
       "    </tr>\n",
       "    <tr>\n",
       "      <th>3</th>\n",
       "      <td>5.68208850655916E+017</td>\n",
       "      <td>5.68208850655916E+017</td>\n",
       "      <td>@g0ssipsquirrelx Wrong, ISIS follows the examp...</td>\n",
       "      <td>racism</td>\n",
       "      <td>1.0</td>\n",
       "    </tr>\n",
       "    <tr>\n",
       "      <th>4</th>\n",
       "      <td>5.75596338802373E+017</td>\n",
       "      <td>5.75596338802373E+017</td>\n",
       "      <td>#mkr No No No No No No</td>\n",
       "      <td>none</td>\n",
       "      <td>0.0</td>\n",
       "    </tr>\n",
       "  </tbody>\n",
       "</table>\n",
       "</div>"
      ],
      "text/plain": [
       "                   index                     id  \\\n",
       "0  5.74948705591165E+017  5.74948705591165E+017   \n",
       "1  5.71917888690393E+017  5.71917888690393E+017   \n",
       "2  3.90255841338601E+017  3.90255841338601E+017   \n",
       "3  5.68208850655916E+017  5.68208850655916E+017   \n",
       "4  5.75596338802373E+017  5.75596338802373E+017   \n",
       "\n",
       "                                                Text Annotation  oh_label  \n",
       "0  @halalflaws @biebervalue @greenlinerzjm I read...       none       0.0  \n",
       "1  @ShreyaBafna3 Now you idiots claim that people...       none       0.0  \n",
       "2  RT @Mooseoftorment Call me sexist, but when I ...     sexism       1.0  \n",
       "3  @g0ssipsquirrelx Wrong, ISIS follows the examp...     racism       1.0  \n",
       "4                             #mkr No No No No No No       none       0.0  "
      ]
     },
     "execution_count": 2,
     "metadata": {},
     "output_type": "execute_result"
    }
   ],
   "source": [
    "# read in the csv file of labeled tweet ids\n",
    "df = pd.read_csv('twitter_parsed_dataset.csv') \n",
    "\n",
    "df.head()"
   ]
  },
  {
   "cell_type": "code",
   "execution_count": 4,
   "id": "59cff40a",
   "metadata": {},
   "outputs": [
    {
     "data": {
      "text/plain": [
       "(16851, 5)"
      ]
     },
     "execution_count": 4,
     "metadata": {},
     "output_type": "execute_result"
    }
   ],
   "source": [
    "df.shape"
   ]
  },
  {
   "cell_type": "code",
   "execution_count": 5,
   "id": "6bbc2523",
   "metadata": {},
   "outputs": [
    {
     "name": "stdout",
     "output_type": "stream",
     "text": [
      "<class 'pandas.core.frame.DataFrame'>\n",
      "RangeIndex: 16851 entries, 0 to 16850\n",
      "Data columns (total 5 columns):\n",
      " #   Column      Non-Null Count  Dtype  \n",
      "---  ------      --------------  -----  \n",
      " 0   index       16851 non-null  object \n",
      " 1   id          16850 non-null  object \n",
      " 2   Text        16850 non-null  object \n",
      " 3   Annotation  16848 non-null  object \n",
      " 4   oh_label    16848 non-null  float64\n",
      "dtypes: float64(1), object(4)\n",
      "memory usage: 658.4+ KB\n"
     ]
    }
   ],
   "source": [
    "df.info()"
   ]
  },
  {
   "cell_type": "code",
   "execution_count": 9,
   "id": "541ca1b5",
   "metadata": {},
   "outputs": [],
   "source": [
    "df['Text'] = df['Text'].astype(str)"
   ]
  },
  {
   "cell_type": "code",
   "execution_count": 11,
   "id": "507b7577",
   "metadata": {},
   "outputs": [
    {
     "data": {
      "text/plain": [
       "index         0\n",
       "id            1\n",
       "Text          0\n",
       "Annotation    3\n",
       "oh_label      3\n",
       "dtype: int64"
      ]
     },
     "execution_count": 11,
     "metadata": {},
     "output_type": "execute_result"
    }
   ],
   "source": [
    "# Checking for NULL values \n",
    "df.isnull().sum()"
   ]
  },
  {
   "cell_type": "code",
   "execution_count": 13,
   "id": "963e15a1",
   "metadata": {},
   "outputs": [],
   "source": [
    "# Since very few rows have null values, we can safely drop them\n",
    "df = df.dropna()"
   ]
  },
  {
   "cell_type": "code",
   "execution_count": 14,
   "id": "e3d87de1",
   "metadata": {},
   "outputs": [
    {
     "data": {
      "text/plain": [
       "index         0\n",
       "id            0\n",
       "Text          0\n",
       "Annotation    0\n",
       "oh_label      0\n",
       "dtype: int64"
      ]
     },
     "execution_count": 14,
     "metadata": {},
     "output_type": "execute_result"
    }
   ],
   "source": [
    "df.isnull().sum()"
   ]
  },
  {
   "cell_type": "code",
   "execution_count": 15,
   "id": "a56cb834",
   "metadata": {},
   "outputs": [
    {
     "data": {
      "text/plain": [
       "True"
      ]
     },
     "execution_count": 15,
     "metadata": {},
     "output_type": "execute_result"
    }
   ],
   "source": [
    "#Check if columns index n id are identical/redundant\n",
    "df['index'].equals(df['id'])"
   ]
  },
  {
   "cell_type": "code",
   "execution_count": 16,
   "id": "38dbee18",
   "metadata": {},
   "outputs": [
    {
     "data": {
      "text/html": [
       "<div>\n",
       "<style scoped>\n",
       "    .dataframe tbody tr th:only-of-type {\n",
       "        vertical-align: middle;\n",
       "    }\n",
       "\n",
       "    .dataframe tbody tr th {\n",
       "        vertical-align: top;\n",
       "    }\n",
       "\n",
       "    .dataframe thead th {\n",
       "        text-align: right;\n",
       "    }\n",
       "</style>\n",
       "<table border=\"1\" class=\"dataframe\">\n",
       "  <thead>\n",
       "    <tr style=\"text-align: right;\">\n",
       "      <th></th>\n",
       "      <th>id</th>\n",
       "      <th>Text</th>\n",
       "      <th>Annotation</th>\n",
       "      <th>oh_label</th>\n",
       "    </tr>\n",
       "  </thead>\n",
       "  <tbody>\n",
       "    <tr>\n",
       "      <th>0</th>\n",
       "      <td>5.74948705591165E+017</td>\n",
       "      <td>@halalflaws @biebervalue @greenlinerzjm I read...</td>\n",
       "      <td>none</td>\n",
       "      <td>0.0</td>\n",
       "    </tr>\n",
       "    <tr>\n",
       "      <th>1</th>\n",
       "      <td>5.71917888690393E+017</td>\n",
       "      <td>@ShreyaBafna3 Now you idiots claim that people...</td>\n",
       "      <td>none</td>\n",
       "      <td>0.0</td>\n",
       "    </tr>\n",
       "    <tr>\n",
       "      <th>2</th>\n",
       "      <td>3.90255841338601E+017</td>\n",
       "      <td>RT @Mooseoftorment Call me sexist, but when I ...</td>\n",
       "      <td>sexism</td>\n",
       "      <td>1.0</td>\n",
       "    </tr>\n",
       "    <tr>\n",
       "      <th>3</th>\n",
       "      <td>5.68208850655916E+017</td>\n",
       "      <td>@g0ssipsquirrelx Wrong, ISIS follows the examp...</td>\n",
       "      <td>racism</td>\n",
       "      <td>1.0</td>\n",
       "    </tr>\n",
       "    <tr>\n",
       "      <th>4</th>\n",
       "      <td>5.75596338802373E+017</td>\n",
       "      <td>#mkr No No No No No No</td>\n",
       "      <td>none</td>\n",
       "      <td>0.0</td>\n",
       "    </tr>\n",
       "    <tr>\n",
       "      <th>...</th>\n",
       "      <td>...</td>\n",
       "      <td>...</td>\n",
       "      <td>...</td>\n",
       "      <td>...</td>\n",
       "    </tr>\n",
       "    <tr>\n",
       "      <th>16846</th>\n",
       "      <td>5.75606766236475E+017</td>\n",
       "      <td>Feeling so sorry for the girls, they should be...</td>\n",
       "      <td>none</td>\n",
       "      <td>0.0</td>\n",
       "    </tr>\n",
       "    <tr>\n",
       "      <th>16847</th>\n",
       "      <td>5.72333822886326E+017</td>\n",
       "      <td>#MKR 'pretty good dishes we're happy with' - O...</td>\n",
       "      <td>none</td>\n",
       "      <td>0.0</td>\n",
       "    </tr>\n",
       "    <tr>\n",
       "      <th>16848</th>\n",
       "      <td>5.72326950057845E+017</td>\n",
       "      <td>RT @colonelkickhead: Deconstructed lemon tart!...</td>\n",
       "      <td>none</td>\n",
       "      <td>0.0</td>\n",
       "    </tr>\n",
       "    <tr>\n",
       "      <th>16849</th>\n",
       "      <td>5.74799612642357E+017</td>\n",
       "      <td>@versacezaynx @nyazpolitics @greenlinerzjm You...</td>\n",
       "      <td>none</td>\n",
       "      <td>0.0</td>\n",
       "    </tr>\n",
       "    <tr>\n",
       "      <th>16850</th>\n",
       "      <td>5.68826121153684E+017</td>\n",
       "      <td>And before you protest that you're *not* mad, ...</td>\n",
       "      <td>none</td>\n",
       "      <td>0.0</td>\n",
       "    </tr>\n",
       "  </tbody>\n",
       "</table>\n",
       "<p>16848 rows × 4 columns</p>\n",
       "</div>"
      ],
      "text/plain": [
       "                          id  \\\n",
       "0      5.74948705591165E+017   \n",
       "1      5.71917888690393E+017   \n",
       "2      3.90255841338601E+017   \n",
       "3      5.68208850655916E+017   \n",
       "4      5.75596338802373E+017   \n",
       "...                      ...   \n",
       "16846  5.75606766236475E+017   \n",
       "16847  5.72333822886326E+017   \n",
       "16848  5.72326950057845E+017   \n",
       "16849  5.74799612642357E+017   \n",
       "16850  5.68826121153684E+017   \n",
       "\n",
       "                                                    Text Annotation  oh_label  \n",
       "0      @halalflaws @biebervalue @greenlinerzjm I read...       none       0.0  \n",
       "1      @ShreyaBafna3 Now you idiots claim that people...       none       0.0  \n",
       "2      RT @Mooseoftorment Call me sexist, but when I ...     sexism       1.0  \n",
       "3      @g0ssipsquirrelx Wrong, ISIS follows the examp...     racism       1.0  \n",
       "4                                 #mkr No No No No No No       none       0.0  \n",
       "...                                                  ...        ...       ...  \n",
       "16846  Feeling so sorry for the girls, they should be...       none       0.0  \n",
       "16847  #MKR 'pretty good dishes we're happy with' - O...       none       0.0  \n",
       "16848  RT @colonelkickhead: Deconstructed lemon tart!...       none       0.0  \n",
       "16849  @versacezaynx @nyazpolitics @greenlinerzjm You...       none       0.0  \n",
       "16850  And before you protest that you're *not* mad, ...       none       0.0  \n",
       "\n",
       "[16848 rows x 4 columns]"
      ]
     },
     "execution_count": 16,
     "metadata": {},
     "output_type": "execute_result"
    }
   ],
   "source": [
    "#Dropping column index as its identical wth id\n",
    "df = df.drop(['index'], axis = 1)\n",
    "df"
   ]
  },
  {
   "cell_type": "code",
   "execution_count": 17,
   "id": "052eaf3e",
   "metadata": {},
   "outputs": [
    {
     "data": {
      "image/png": "[encoded data removed]",
      "text/plain": [
       "<Figure size 504x504 with 1 Axes>"
      ]
     },
     "metadata": {},
     "output_type": "display_data"
    }
   ],
   "source": [
    "# Target Value distribution\n",
    "plt.figure(figsize = (7,7))\n",
    "sorted_counts = df['oh_label'].value_counts()\n",
    "plt.pie(sorted_counts, labels = sorted_counts.index, startangle = 90, counterclock = False, wedgeprops = {'width' : 0.6},\n",
    "       autopct='%1.1f%%', pctdistance = 0.7, textprops = {'color': 'black', 'fontsize' : 15}, shadow = True,\n",
    "        colors = sns.color_palette(\"Paired\")[7:])\n",
    "plt.text(x = -0.35, y = 0, s = 'Total Tweets: {}'.format(df.shape[0]))\n",
    "plt.title('Distribution of Tweets in the Dataset', fontsize = 16);"
   ]
  },
  {
   "cell_type": "code",
   "execution_count": 18,
   "id": "eb9bed43",
   "metadata": {},
   "outputs": [
    {
     "data": {
      "text/plain": [
       "<AxesSubplot:>"
      ]
     },
     "execution_count": 18,
     "metadata": {},
     "output_type": "execute_result"
    },
    {
     "data": {
      "image/png": "[encoded data removed]",
      "text/plain": [
       "<Figure size 432x288 with 1 Axes>"
      ]
     },
     "metadata": {
      "needs_background": "light"
     },
     "output_type": "display_data"
    }
   ],
   "source": [
    "df['Text'].str.len().hist()"
   ]
  },
  {
   "cell_type": "code",
   "execution_count": 19,
   "id": "10bb4dfd",
   "metadata": {},
   "outputs": [],
   "source": [
    "def remove_emoji(text):\n",
    "    emoji_pattern = re.compile(\"[\"\n",
    "                u\"\\U0001F600-\\U0001F64F\" #emoticons\n",
    "                u\"\\U0001F300-\\U0001F5FF\" #symbols & pictograms\n",
    "                u\"\\U0001F680-\\U0001F6FF\" #transport & map symbols\n",
    "                u\"\\U0001F1E0-\\U0001F1FF\" #flags(ios)\n",
    "                u\"\\U00002702-\\U000027B0\"\n",
    "                u\"\\U000024C2-\\U0001F251\" \n",
    "                \"]+\", flags=re.UNICODE)\n",
    "    return emoji_pattern.sub(r'', text)\n",
    "\n",
    "def clean_text(text):\n",
    "    delete_dict = {sp_character: '' for sp_character in string.punctuation}\n",
    "    delete_dict[' '] = ' '\n",
    "    table = str.maketrans(delete_dict)\n",
    "    text1 = text.translate(table)\n",
    "    textArr = text1.split()\n",
    "    text2 = ' '.join([w for w in textArr if(not w.isdigit() and (not w.isdigit() and len(w) > 3))])\n",
    "\n",
    "    return text2.lower()"
   ]
  },
  {
   "cell_type": "code",
   "execution_count": 21,
   "id": "0a48d2e1",
   "metadata": {},
   "outputs": [],
   "source": [
    "# Cleaning the text - \n",
    "df['Text'] = df['Text'].apply(remove_emoji)\n",
    "df['Text'] = df['Text'].apply(clean_text)\n",
    "df['num_words_text'] = df['Text'].apply(lambda x : len(str(x).split()))"
   ]
  },
  {
   "cell_type": "code",
   "execution_count": 22,
   "id": "bce80e8b",
   "metadata": {},
   "outputs": [
    {
     "data": {
      "text/html": [
       "<div>\n",
       "<style scoped>\n",
       "    .dataframe tbody tr th:only-of-type {\n",
       "        vertical-align: middle;\n",
       "    }\n",
       "\n",
       "    .dataframe tbody tr th {\n",
       "        vertical-align: top;\n",
       "    }\n",
       "\n",
       "    .dataframe thead th {\n",
       "        text-align: right;\n",
       "    }\n",
       "</style>\n",
       "<table border=\"1\" class=\"dataframe\">\n",
       "  <thead>\n",
       "    <tr style=\"text-align: right;\">\n",
       "      <th></th>\n",
       "      <th>id</th>\n",
       "      <th>Text</th>\n",
       "      <th>Annotation</th>\n",
       "      <th>oh_label</th>\n",
       "      <th>num_words_text</th>\n",
       "    </tr>\n",
       "  </thead>\n",
       "  <tbody>\n",
       "    <tr>\n",
       "      <th>0</th>\n",
       "      <td>5.74948705591165E+017</td>\n",
       "      <td>halalflaws biebervalue greenlinerzjm read them...</td>\n",
       "      <td>none</td>\n",
       "      <td>0.0</td>\n",
       "      <td>12</td>\n",
       "    </tr>\n",
       "    <tr>\n",
       "      <th>1</th>\n",
       "      <td>5.71917888690393E+017</td>\n",
       "      <td>shreyabafna3 idiots claim that people tried st...</td>\n",
       "      <td>none</td>\n",
       "      <td>0.0</td>\n",
       "      <td>15</td>\n",
       "    </tr>\n",
       "    <tr>\n",
       "      <th>2</th>\n",
       "      <td>3.90255841338601E+017</td>\n",
       "      <td>mooseoftorment call sexist when auto place rat...</td>\n",
       "      <td>sexism</td>\n",
       "      <td>1.0</td>\n",
       "      <td>8</td>\n",
       "    </tr>\n",
       "    <tr>\n",
       "      <th>3</th>\n",
       "      <td>5.68208850655916E+017</td>\n",
       "      <td>g0ssipsquirrelx wrong isis follows example moh...</td>\n",
       "      <td>racism</td>\n",
       "      <td>1.0</td>\n",
       "      <td>8</td>\n",
       "    </tr>\n",
       "    <tr>\n",
       "      <th>4</th>\n",
       "      <td>5.75596338802373E+017</td>\n",
       "      <td></td>\n",
       "      <td>none</td>\n",
       "      <td>0.0</td>\n",
       "      <td>0</td>\n",
       "    </tr>\n",
       "  </tbody>\n",
       "</table>\n",
       "</div>"
      ],
      "text/plain": [
       "                      id                                               Text  \\\n",
       "0  5.74948705591165E+017  halalflaws biebervalue greenlinerzjm read them...   \n",
       "1  5.71917888690393E+017  shreyabafna3 idiots claim that people tried st...   \n",
       "2  3.90255841338601E+017  mooseoftorment call sexist when auto place rat...   \n",
       "3  5.68208850655916E+017  g0ssipsquirrelx wrong isis follows example moh...   \n",
       "4  5.75596338802373E+017                                                      \n",
       "\n",
       "  Annotation  oh_label  num_words_text  \n",
       "0       none       0.0              12  \n",
       "1       none       0.0              15  \n",
       "2     sexism       1.0               8  \n",
       "3     racism       1.0               8  \n",
       "4       none       0.0               0  "
      ]
     },
     "execution_count": 22,
     "metadata": {},
     "output_type": "execute_result"
    }
   ],
   "source": [
    "df.head()"
   ]
  },
  {
   "cell_type": "code",
   "execution_count": 23,
   "id": "aa6af621",
   "metadata": {},
   "outputs": [
    {
     "name": "stdout",
     "output_type": "stream",
     "text": [
      "Number of rows in the total set: 16848\n",
      "Number of rows in the training set: 12636\n",
      "Number of rows in the test set: 4212\n"
     ]
    }
   ],
   "source": [
    "# Test Train Split\n",
    "X_train, X_test, y_train, y_test = train_test_split(df['Text'], \n",
    "                                                    df['oh_label'], \n",
    "                                                    random_state=42)\n",
    "\n",
    "print('Number of rows in the total set: {}'.format(df.shape[0]))\n",
    "print('Number of rows in the training set: {}'.format(X_train.shape[0]))\n",
    "print('Number of rows in the test set: {}'.format(X_test.shape[0]))"
   ]
  },
  {
   "cell_type": "markdown",
   "id": "c9305fd9",
   "metadata": {},
   "source": [
    "### Vectorize the Data "
   ]
  },
  {
   "cell_type": "code",
   "execution_count": 24,
   "id": "bdfe367d",
   "metadata": {},
   "outputs": [],
   "source": [
    "# Instantiate the CountVectorizer method\n",
    "count_vector = CountVectorizer(stop_words = 'english', lowercase = True)\n",
    "\n",
    "# Fit the training data and then return the matrix\n",
    "training_data = count_vector.fit_transform(X_train)\n",
    "\n",
    "# Transform testing data and return the matrix. Note we are not fitting the testing data into the CountVectorizer()\n",
    "testing_data = count_vector.transform(X_test)"
   ]
  },
  {
   "cell_type": "markdown",
   "id": "16fdc2e4",
   "metadata": {},
   "source": [
    "### Implement Pipeline "
   ]
  },
  {
   "cell_type": "code",
   "execution_count": 25,
   "id": "99232bac",
   "metadata": {},
   "outputs": [],
   "source": [
    "def pipeline(learner_list, X_train, y_train, X_test, y_test): \n",
    "    '''\n",
    "    inputs:\n",
    "       - learner: the learning algorithm to be trained and predicted on\n",
    "       - X_train: features training set\n",
    "       - y_train: income training set\n",
    "       - X_test: features testing set\n",
    "       - y_test: income testing set\n",
    "    '''\n",
    "    \n",
    "    # Get length of Training Data:\n",
    "    size = len(y_train)\n",
    "    \n",
    "    results = {}\n",
    "    final_results = []\n",
    "    \n",
    "    for learner in learner_list:\n",
    "        \n",
    "        # Store the learner name:\n",
    "        results['Algorithm'] = learner.__class__.__name__\n",
    "\n",
    "        # Fit the learner:\n",
    "        start = time() # Get start time\n",
    "        print(\"Training {}\".format(learner.__class__.__name__))\n",
    "        learner = learner.fit(X_train, y_train)\n",
    "        end = time() # Get end time\n",
    "\n",
    "        # Store the training time\n",
    "        results['Training Time'] = end - start\n",
    "\n",
    "        start = time() # Get start time\n",
    "        predictions_test = learner.predict(X_test)\n",
    "        predictions_train = learner.predict(X_train)\n",
    "        end = time() # Get end time\n",
    "\n",
    "        # Store the prediction time\n",
    "        results['Prediction Time'] = end - start\n",
    "\n",
    "        # Compute the Accuracy on Test Set\n",
    "        results['Accuracy: Test'] = accuracy_score(y_test, predictions_test)\n",
    "\n",
    "        # Compute the Accuracy on Training Set\n",
    "        results['Accuracy: Train'] = accuracy_score(y_train, predictions_train)\n",
    "\n",
    "        # Compute the F1 Score on Test Set\n",
    "        results['F1 Score: Test'] = f1_score(y_test, predictions_test)\n",
    "\n",
    "        # Compute the F1 Score on Training Set\n",
    "        results['F1 Score: Train'] = f1_score(y_train, predictions_train)\n",
    "\n",
    "        # Compute the Precision on Test Set\n",
    "        results['Precision: Test'] = precision_score(y_test, predictions_test)\n",
    "\n",
    "        # Compute the Precision on Training Set\n",
    "        results['Precision: Train'] = precision_score(y_train, predictions_train)\n",
    "\n",
    "        # Compute the Recall on Test Set\n",
    "        results['Recall: Test'] = recall_score(y_test, predictions_test)\n",
    "\n",
    "        # Compute the Recall on Training Set\n",
    "        results['Recall: Train'] = recall_score(y_train, predictions_train)\n",
    "\n",
    "        # Success\n",
    "        print(\"Training {} finished in {:.2f} sec\".format(learner.__class__.__name__, results['Training Time']))\n",
    "        print('----------------------------------------------------')\n",
    "        \n",
    "        final_results.append(results.copy())\n",
    "    # Return a dataframe of the results\n",
    "    return final_results"
   ]
  },
  {
   "cell_type": "markdown",
   "id": "5b1fc583",
   "metadata": {},
   "source": [
    "### Putting Algorithms in Pipeline "
   ]
  },
  {
   "cell_type": "code",
   "execution_count": 26,
   "id": "94364d2f",
   "metadata": {},
   "outputs": [],
   "source": [
    "# make a list of models\n",
    "models = [MultinomialNB(), DecisionTreeClassifier(), LinearSVC(), AdaBoostClassifier(), \n",
    "          RandomForestClassifier(), BaggingClassifier(),\n",
    "         LogisticRegression(), SGDClassifier(), KNeighborsClassifier()]"
   ]
  },
  {
   "cell_type": "code",
   "execution_count": 28,
   "id": "5fd1ad5b",
   "metadata": {},
   "outputs": [
    {
     "name": "stdout",
     "output_type": "stream",
     "text": [
      "Training MultinomialNB\n",
      "Training MultinomialNB finished in 0.01 sec\n",
      "----------------------------------------------------\n",
      "Training DecisionTreeClassifier\n",
      "Training DecisionTreeClassifier finished in 5.96 sec\n",
      "----------------------------------------------------\n",
      "Training LinearSVC\n",
      "Training LinearSVC finished in 0.18 sec\n",
      "----------------------------------------------------\n",
      "Training AdaBoostClassifier\n",
      "Training AdaBoostClassifier finished in 0.85 sec\n",
      "----------------------------------------------------\n",
      "Training RandomForestClassifier\n",
      "Training RandomForestClassifier finished in 21.85 sec\n",
      "----------------------------------------------------\n",
      "Training BaggingClassifier\n",
      "Training BaggingClassifier finished in 33.31 sec\n",
      "----------------------------------------------------\n",
      "Training LogisticRegression\n",
      "Training LogisticRegression finished in 0.48 sec\n",
      "----------------------------------------------------\n",
      "Training SGDClassifier\n",
      "Training SGDClassifier finished in 0.06 sec\n",
      "----------------------------------------------------\n",
      "Training KNeighborsClassifier\n",
      "Training KNeighborsClassifier finished in 0.01 sec\n",
      "----------------------------------------------------\n"
     ]
    }
   ],
   "source": [
    "re = pipeline(models, training_data, y_train, testing_data, y_test)\n",
    "results = pd.DataFrame(re)\n",
    "results = results.reindex(columns = ['Algorithm', 'Accuracy: Test', 'Precision: Test', 'Recall: Test', 'F1 Score: Test', 'Prediction Time',\n",
    "                          'Accuracy: Train', 'Precision: Train', 'Recall: Train', 'F1 Score: Train', 'Training Time'])"
   ]
  },
  {
   "cell_type": "code",
   "execution_count": 29,
   "id": "82daa3cb",
   "metadata": {},
   "outputs": [],
   "source": [
    "results = results.reindex(columns = ['Algorithm', 'Accuracy: Test', 'Precision: Test', 'Recall: Test', 'F1 Score: Test', 'Prediction Time',\n",
    "                          'Accuracy: Train', 'Precision: Train', 'Recall: Train', 'F1 Score: Train', 'Training Time'])\n",
    "\n",
    "results.sort_values(by = 'F1 Score: Test', inplace = True, ascending = False)"
   ]
  },
  {
   "cell_type": "markdown",
   "id": "981e47ad",
   "metadata": {},
   "source": [
    "### Analyze the results of the Pipeline "
   ]
  },
  {
   "cell_type": "code",
   "execution_count": 30,
   "id": "7dc0e14b",
   "metadata": {},
   "outputs": [
    {
     "data": {
      "text/html": [
       "<div>\n",
       "<style scoped>\n",
       "    .dataframe tbody tr th:only-of-type {\n",
       "        vertical-align: middle;\n",
       "    }\n",
       "\n",
       "    .dataframe tbody tr th {\n",
       "        vertical-align: top;\n",
       "    }\n",
       "\n",
       "    .dataframe thead th {\n",
       "        text-align: right;\n",
       "    }\n",
       "</style>\n",
       "<table border=\"1\" class=\"dataframe\">\n",
       "  <thead>\n",
       "    <tr style=\"text-align: right;\">\n",
       "      <th></th>\n",
       "      <th>Algorithm</th>\n",
       "      <th>Accuracy: Test</th>\n",
       "      <th>Precision: Test</th>\n",
       "      <th>Recall: Test</th>\n",
       "      <th>F1 Score: Test</th>\n",
       "      <th>Prediction Time</th>\n",
       "      <th>Accuracy: Train</th>\n",
       "      <th>Precision: Train</th>\n",
       "      <th>Recall: Train</th>\n",
       "      <th>F1 Score: Train</th>\n",
       "      <th>Training Time</th>\n",
       "    </tr>\n",
       "  </thead>\n",
       "  <tbody>\n",
       "    <tr>\n",
       "      <th>0</th>\n",
       "      <td>MultinomialNB</td>\n",
       "      <td>0.834046</td>\n",
       "      <td>0.728739</td>\n",
       "      <td>0.751323</td>\n",
       "      <td>0.739859</td>\n",
       "      <td>0.008211</td>\n",
       "      <td>0.917458</td>\n",
       "      <td>0.860809</td>\n",
       "      <td>0.883698</td>\n",
       "      <td>0.872103</td>\n",
       "      <td>0.008030</td>\n",
       "    </tr>\n",
       "    <tr>\n",
       "      <th>1</th>\n",
       "      <td>SGDClassifier</td>\n",
       "      <td>0.844017</td>\n",
       "      <td>0.778428</td>\n",
       "      <td>0.703704</td>\n",
       "      <td>0.739182</td>\n",
       "      <td>0.000000</td>\n",
       "      <td>0.978395</td>\n",
       "      <td>0.979790</td>\n",
       "      <td>0.951789</td>\n",
       "      <td>0.965587</td>\n",
       "      <td>0.058363</td>\n",
       "    </tr>\n",
       "    <tr>\n",
       "      <th>2</th>\n",
       "      <td>RandomForestClassifier</td>\n",
       "      <td>0.845442</td>\n",
       "      <td>0.797872</td>\n",
       "      <td>0.680272</td>\n",
       "      <td>0.734394</td>\n",
       "      <td>3.830530</td>\n",
       "      <td>0.999288</td>\n",
       "      <td>0.999751</td>\n",
       "      <td>0.998012</td>\n",
       "      <td>0.998881</td>\n",
       "      <td>21.849718</td>\n",
       "    </tr>\n",
       "    <tr>\n",
       "      <th>3</th>\n",
       "      <td>BaggingClassifier</td>\n",
       "      <td>0.833571</td>\n",
       "      <td>0.749599</td>\n",
       "      <td>0.705971</td>\n",
       "      <td>0.727131</td>\n",
       "      <td>0.407677</td>\n",
       "      <td>0.982115</td>\n",
       "      <td>0.985926</td>\n",
       "      <td>0.957505</td>\n",
       "      <td>0.971508</td>\n",
       "      <td>33.307884</td>\n",
       "    </tr>\n",
       "    <tr>\n",
       "      <th>4</th>\n",
       "      <td>LogisticRegression</td>\n",
       "      <td>0.844492</td>\n",
       "      <td>0.815690</td>\n",
       "      <td>0.652305</td>\n",
       "      <td>0.724906</td>\n",
       "      <td>0.000000</td>\n",
       "      <td>0.951250</td>\n",
       "      <td>0.959795</td>\n",
       "      <td>0.883946</td>\n",
       "      <td>0.920310</td>\n",
       "      <td>0.484290</td>\n",
       "    </tr>\n",
       "    <tr>\n",
       "      <th>5</th>\n",
       "      <td>LinearSVC</td>\n",
       "      <td>0.830247</td>\n",
       "      <td>0.752912</td>\n",
       "      <td>0.684051</td>\n",
       "      <td>0.716832</td>\n",
       "      <td>0.009043</td>\n",
       "      <td>0.993827</td>\n",
       "      <td>0.997228</td>\n",
       "      <td>0.983350</td>\n",
       "      <td>0.990240</td>\n",
       "      <td>0.179657</td>\n",
       "    </tr>\n",
       "    <tr>\n",
       "      <th>6</th>\n",
       "      <td>DecisionTreeClassifier</td>\n",
       "      <td>0.822175</td>\n",
       "      <td>0.722481</td>\n",
       "      <td>0.704460</td>\n",
       "      <td>0.713356</td>\n",
       "      <td>0.052027</td>\n",
       "      <td>0.999288</td>\n",
       "      <td>1.000000</td>\n",
       "      <td>0.997763</td>\n",
       "      <td>0.998880</td>\n",
       "      <td>5.957264</td>\n",
       "    </tr>\n",
       "    <tr>\n",
       "      <th>7</th>\n",
       "      <td>AdaBoostClassifier</td>\n",
       "      <td>0.824549</td>\n",
       "      <td>0.808017</td>\n",
       "      <td>0.578987</td>\n",
       "      <td>0.674593</td>\n",
       "      <td>0.168314</td>\n",
       "      <td>0.829851</td>\n",
       "      <td>0.820671</td>\n",
       "      <td>0.595924</td>\n",
       "      <td>0.690469</td>\n",
       "      <td>0.845551</td>\n",
       "    </tr>\n",
       "    <tr>\n",
       "      <th>8</th>\n",
       "      <td>KNeighborsClassifier</td>\n",
       "      <td>0.702042</td>\n",
       "      <td>0.769841</td>\n",
       "      <td>0.073318</td>\n",
       "      <td>0.133885</td>\n",
       "      <td>9.143262</td>\n",
       "      <td>0.735359</td>\n",
       "      <td>0.953333</td>\n",
       "      <td>0.177684</td>\n",
       "      <td>0.299539</td>\n",
       "      <td>0.008002</td>\n",
       "    </tr>\n",
       "  </tbody>\n",
       "</table>\n",
       "</div>"
      ],
      "text/plain": [
       "                Algorithm  Accuracy: Test  Precision: Test  Recall: Test  \\\n",
       "0           MultinomialNB        0.834046         0.728739      0.751323   \n",
       "1           SGDClassifier        0.844017         0.778428      0.703704   \n",
       "2  RandomForestClassifier        0.845442         0.797872      0.680272   \n",
       "3       BaggingClassifier        0.833571         0.749599      0.705971   \n",
       "4      LogisticRegression        0.844492         0.815690      0.652305   \n",
       "5               LinearSVC        0.830247         0.752912      0.684051   \n",
       "6  DecisionTreeClassifier        0.822175         0.722481      0.704460   \n",
       "7      AdaBoostClassifier        0.824549         0.808017      0.578987   \n",
       "8    KNeighborsClassifier        0.702042         0.769841      0.073318   \n",
       "\n",
       "   F1 Score: Test  Prediction Time  Accuracy: Train  Precision: Train  \\\n",
       "0        0.739859         0.008211         0.917458          0.860809   \n",
       "1        0.739182         0.000000         0.978395          0.979790   \n",
       "2        0.734394         3.830530         0.999288          0.999751   \n",
       "3        0.727131         0.407677         0.982115          0.985926   \n",
       "4        0.724906         0.000000         0.951250          0.959795   \n",
       "5        0.716832         0.009043         0.993827          0.997228   \n",
       "6        0.713356         0.052027         0.999288          1.000000   \n",
       "7        0.674593         0.168314         0.829851          0.820671   \n",
       "8        0.133885         9.143262         0.735359          0.953333   \n",
       "\n",
       "   Recall: Train  F1 Score: Train  Training Time  \n",
       "0       0.883698         0.872103       0.008030  \n",
       "1       0.951789         0.965587       0.058363  \n",
       "2       0.998012         0.998881      21.849718  \n",
       "3       0.957505         0.971508      33.307884  \n",
       "4       0.883946         0.920310       0.484290  \n",
       "5       0.983350         0.990240       0.179657  \n",
       "6       0.997763         0.998880       5.957264  \n",
       "7       0.595924         0.690469       0.845551  \n",
       "8       0.177684         0.299539       0.008002  "
      ]
     },
     "execution_count": 30,
     "metadata": {},
     "output_type": "execute_result"
    }
   ],
   "source": [
    "results.reset_index(drop = True)"
   ]
  },
  {
   "cell_type": "code",
   "execution_count": 31,
   "id": "46dc2573",
   "metadata": {},
   "outputs": [
    {
     "data": {
      "text/html": [
       "<div>\n",
       "<style scoped>\n",
       "    .dataframe tbody tr th:only-of-type {\n",
       "        vertical-align: middle;\n",
       "    }\n",
       "\n",
       "    .dataframe tbody tr th {\n",
       "        vertical-align: top;\n",
       "    }\n",
       "\n",
       "    .dataframe thead th {\n",
       "        text-align: right;\n",
       "    }\n",
       "</style>\n",
       "<table border=\"1\" class=\"dataframe\">\n",
       "  <thead>\n",
       "    <tr style=\"text-align: right;\">\n",
       "      <th></th>\n",
       "      <th>Accuracy: Test</th>\n",
       "      <th>Precision: Test</th>\n",
       "      <th>Recall: Test</th>\n",
       "      <th>F1 Score: Test</th>\n",
       "      <th>Prediction Time</th>\n",
       "      <th>Accuracy: Train</th>\n",
       "      <th>Precision: Train</th>\n",
       "      <th>Recall: Train</th>\n",
       "      <th>F1 Score: Train</th>\n",
       "      <th>Training Time</th>\n",
       "    </tr>\n",
       "  </thead>\n",
       "  <tbody>\n",
       "    <tr>\n",
       "      <th>min</th>\n",
       "      <td>0.702042</td>\n",
       "      <td>0.722481</td>\n",
       "      <td>0.073318</td>\n",
       "      <td>0.133885</td>\n",
       "      <td>0.000000</td>\n",
       "      <td>0.735359</td>\n",
       "      <td>0.820671</td>\n",
       "      <td>0.177684</td>\n",
       "      <td>0.299539</td>\n",
       "      <td>0.008002</td>\n",
       "    </tr>\n",
       "    <tr>\n",
       "      <th>max</th>\n",
       "      <td>0.845442</td>\n",
       "      <td>0.815690</td>\n",
       "      <td>0.751323</td>\n",
       "      <td>0.739859</td>\n",
       "      <td>9.143262</td>\n",
       "      <td>0.999288</td>\n",
       "      <td>1.000000</td>\n",
       "      <td>0.998012</td>\n",
       "      <td>0.998881</td>\n",
       "      <td>33.307884</td>\n",
       "    </tr>\n",
       "  </tbody>\n",
       "</table>\n",
       "</div>"
      ],
      "text/plain": [
       "     Accuracy: Test  Precision: Test  Recall: Test  F1 Score: Test  \\\n",
       "min        0.702042         0.722481      0.073318        0.133885   \n",
       "max        0.845442         0.815690      0.751323        0.739859   \n",
       "\n",
       "     Prediction Time  Accuracy: Train  Precision: Train  Recall: Train  \\\n",
       "min         0.000000         0.735359          0.820671       0.177684   \n",
       "max         9.143262         0.999288          1.000000       0.998012   \n",
       "\n",
       "     F1 Score: Train  Training Time  \n",
       "min         0.299539       0.008002  \n",
       "max         0.998881      33.307884  "
      ]
     },
     "execution_count": 31,
     "metadata": {},
     "output_type": "execute_result"
    }
   ],
   "source": [
    "results.describe().loc[['min', 'max'], :]"
   ]
  },
  {
   "cell_type": "code",
   "execution_count": 33,
   "id": "263062b7",
   "metadata": {},
   "outputs": [],
   "source": [
    "# store the best metric scores\n",
    "best_acc = results[results['Accuracy: Test'] == results['Accuracy: Test'].max()]\n",
    "best_f1 = results[results['F1 Score: Test'] == results['F1 Score: Test'].max()]\n",
    "best_precision = results[results['Precision: Test'] == results['Precision: Test'].max()]\n",
    "best_recall = results[results['Recall: Test'] == results['Recall: Test'].max()]"
   ]
  },
  {
   "cell_type": "code",
   "execution_count": 34,
   "id": "f935db5a",
   "metadata": {},
   "outputs": [
    {
     "data": {
      "image/png": "[encoded data removed]",
      "text/plain": [
       "<Figure size 1224x504 with 1 Axes>"
      ]
     },
     "metadata": {},
     "output_type": "display_data"
    }
   ],
   "source": [
    "sns.set_style('darkgrid')\n",
    "plt.figure(figsize = (17, 7))\n",
    "\n",
    "barWidth = 0.17\n",
    " \n",
    "# set height of bar\n",
    "bars1 = results['Accuracy: Test']\n",
    "bars2 = results['F1 Score: Test']\n",
    "bars3 = results['Precision: Test']\n",
    "bars4 = results['Recall: Test']\n",
    "\n",
    " \n",
    "# Set position of bar on X axis\n",
    "r1 = np.arange(len(bars1))\n",
    "r2 = [x + barWidth for x in r1]\n",
    "r3 = [x + barWidth for x in r2]\n",
    "r4 = [x + barWidth for x in r3]\n",
    "\n",
    " \n",
    "# Make the plot\n",
    "pal = sns.color_palette()\n",
    "plt.bar(r1, bars1, color= pal[0], width=barWidth, edgecolor='white', label='Test Accuracy')\n",
    "plt.bar(r2, bars2, color= pal[1], width=barWidth, edgecolor='white', label='F1 Score')\n",
    "plt.bar(r3, bars3, color= pal[2], width=barWidth, edgecolor='white', label='Precision')\n",
    "plt.bar(r4, bars4, color= pal[4], width=barWidth, edgecolor='white', label='Recall')\n",
    "\n",
    " \n",
    "# Add xticks on the middle of the group bars\n",
    "plt.xlabel('Algorithm', fontweight='bold', fontsize = 13)\n",
    "plt.ylabel('Score', fontweight = 'bold', fontsize = 13)\n",
    "plt.xticks([r + barWidth for r in range(len(bars1))], results['Algorithm'], rotation = 15, fontsize = 11)\n",
    " \n",
    "# Create legend & Show graphic\n",
    "plt.legend(fontsize = 13)\n",
    "\n",
    "textstr = '\\n'.join(['Best Accuracy: {:.3f} - {}'.format(best_acc['Accuracy: Test'].values[0], best_acc['Algorithm'].values[0]), \n",
    "                     'Best F1 Score: {:.3f} - {}'.format(best_f1['F1 Score: Test'].values[0], best_f1['Algorithm'].values[0]),\n",
    "                   'Best Precision: {:.3f} - {}'.format(best_precision['Precision: Test'].values[0], best_precision['Algorithm'].values[0]), \n",
    "                    'Best Recall: {:.3f} - {}'.format(best_recall['Recall: Test'].values[0], best_recall['Algorithm'].values[0])])\n",
    "props = dict(boxstyle='round', facecolor='lightgrey', alpha=0.5)\n",
    "\n",
    "#place a text box\n",
    "plt.text(9.2, 1, textstr, fontsize=14,\n",
    "        verticalalignment='top', bbox=props)\n",
    "\n",
    "plt.title('Classification Summary of Algorithms', fontweight = 'bold', fontsize = 17);"
   ]
  },
  {
   "cell_type": "code",
   "execution_count": 35,
   "id": "09622ce4",
   "metadata": {},
   "outputs": [],
   "source": [
    "# store the best/worst performance time\n",
    "best_train_time = results[results['Training Time'] == results['Training Time'].min()]\n",
    "worst_train_time = results[results['Training Time'] == results['Training Time'].max()]\n",
    "best_prediction_time = results[results['Prediction Time'] == results['Prediction Time'].min()]\n",
    "worst_prediction_time = results[results['Prediction Time'] == results['Prediction Time'].max()]"
   ]
  },
  {
   "cell_type": "code",
   "execution_count": 36,
   "id": "fb66ded2",
   "metadata": {},
   "outputs": [
    {
     "data": {
      "image/png": "[encoded data removed]",
      "text/plain": [
       "<Figure size 864x504 with 1 Axes>"
      ]
     },
     "metadata": {},
     "output_type": "display_data"
    }
   ],
   "source": [
    "plt.figure(figsize = (12, 7))\n",
    "\n",
    "barWidth = 0.17\n",
    " \n",
    "# set height of bar\n",
    "bars1 = results['Training Time']\n",
    "bars2 = results['Prediction Time']\n",
    " \n",
    "# Set position of bar on X axis\n",
    "r1 = np.arange(len(bars1))\n",
    "r2 = [x + barWidth for x in r1]\n",
    " \n",
    "# Make the plot\n",
    "plt.bar(r1, bars1, color= pal[0], width=barWidth, edgecolor='white', label='Training Time')\n",
    "plt.bar(r2, bars2, color= pal[1], width=barWidth, edgecolor='white', label='Prediction Time')\n",
    " \n",
    "# Add xticks on the middle of the group bars\n",
    "plt.xlabel('Algorithm', fontweight='bold', fontsize = 13)\n",
    "plt.ylabel('Time (seconds)', fontweight = 'bold', fontsize = 13)\n",
    "plt.xticks([r + barWidth for r in range(len(bars1))], results['Algorithm'], rotation = 15, fontsize = 11)\n",
    " \n",
    "# Create legend & Show graphic\n",
    "plt.legend(fontsize = 13)\n",
    "\n",
    "textstr = '\\n'.join(('Best Training Time: {:.3f} - {}'.format(best_train_time['Training Time'].values[0], best_train_time['Algorithm'].values[0]), \n",
    "                     'Worst Training Time: {:.3f} - {}'.format(worst_train_time['Training Time'].values[0], worst_train_time['Algorithm'].values[0]),\n",
    "                   'Best Prediction Time: {:.3f} - {}'.format(best_prediction_time['Training Time'].values[0], best_prediction_time['Algorithm'].values[0]), \n",
    "                    'Worst Prediction Time: {:.3f} - {}'.format(worst_prediction_time['Training Time'].values[0], worst_prediction_time['Algorithm'].values[0])))\n",
    "\n",
    "props = dict(boxstyle='round', facecolor='lightgrey', alpha=0.5)\n",
    "\n",
    "#place a text box\n",
    "plt.text(9, 36, textstr, fontsize=14,  bbox=props)\n",
    "\n",
    "plt.title('Time Complexity of Algorithms', fontweight = 'bold', fontsize = 17);"
   ]
  },
  {
   "cell_type": "markdown",
   "id": "041dca8f",
   "metadata": {},
   "source": [
    "The Algorithms MultinomialNB, SGD, Logistic Regression and AdaBoost and LinearSVC have more or less similar performance. We will tune the hyperparameters of these algorithms. However, the training time for Bagging is very high as compared to the others. Hence we drop it."
   ]
  },
  {
   "cell_type": "markdown",
   "id": "aa6abb26",
   "metadata": {},
   "source": [
    "### Tuning Hyperparameters "
   ]
  },
  {
   "cell_type": "code",
   "execution_count": 37,
   "id": "3ff1a000",
   "metadata": {},
   "outputs": [],
   "source": [
    "def param_tuning(clf, param_dict, X_train, y_train, X_test, y_test):\n",
    "    \n",
    "    # make scorer object\n",
    "    scorer = make_scorer(f1_score)\n",
    "\n",
    "    # perform Grid Search for Parameters\n",
    "    grid_obj = GridSearchCV(estimator = clf,\n",
    "                           param_grid = param_dict,\n",
    "                           scoring = scorer,\n",
    "                           cv = 5)\n",
    "\n",
    "    grid_fit = grid_obj.fit(X_train, y_train)\n",
    "\n",
    "    # Get the estimator\n",
    "    best_clf = grid_fit.best_estimator_\n",
    "\n",
    "    # Make predictions using the unoptimized and model\n",
    "    predictions = (clf.fit(X_train, y_train)).predict(X_test)\n",
    "    best_predictions = best_clf.predict(X_test)\n",
    "    \n",
    "    # Report the before-and-afterscores\n",
    "    print(clf.__class__.__name__)\n",
    "    print(\"\\nOptimized Model\\n------\")\n",
    "    print(\"Best Parameters: {}\".format(grid_fit.best_params_))\n",
    "    print(\"Accuracy: {:.4f}\".format(accuracy_score(y_test, best_predictions)))\n",
    "    print(\"F1-score: {:.4f}\".format(f1_score(y_test, best_predictions)))\n",
    "    print(\"Precision: {:.4f}\".format(precision_score(y_test, best_predictions)))\n",
    "    print(\"Recall: {:.4f}\".format(recall_score(y_test, best_predictions)))"
   ]
  },
  {
   "cell_type": "markdown",
   "id": "1e9d7beb",
   "metadata": {},
   "source": [
    "###   Stochastic Gradient Classifier:"
   ]
  },
  {
   "cell_type": "code",
   "execution_count": 38,
   "id": "2e8ad844",
   "metadata": {},
   "outputs": [
    {
     "name": "stdout",
     "output_type": "stream",
     "text": [
      "SGDClassifier\n",
      "\n",
      "Optimized Model\n",
      "------\n",
      "Best Parameters: {'alpha': 0.0003, 'max_iter': 3000}\n",
      "Accuracy: 0.8502\n",
      "F1-score: 0.7363\n",
      "Precision: 0.8234\n",
      "Recall: 0.6659\n"
     ]
    }
   ],
   "source": [
    "# Dict for parameters\n",
    "param_grid = {\n",
    "    'alpha' : [0.095, 0.0002, 0.0003],\n",
    "    'max_iter' : [2500, 3000, 4000]\n",
    "}\n",
    "\n",
    "clf_sgd = SGDClassifier()\n",
    "\n",
    "param_tuning(clf_sgd, param_grid, training_data, y_train, testing_data, y_test)"
   ]
  },
  {
   "cell_type": "markdown",
   "id": "4a262534",
   "metadata": {},
   "source": [
    "### Logistic Regression Classifier: "
   ]
  },
  {
   "cell_type": "code",
   "execution_count": 39,
   "id": "73baefb4",
   "metadata": {},
   "outputs": [
    {
     "name": "stdout",
     "output_type": "stream",
     "text": [
      "LogisticRegression\n",
      "\n",
      "Optimized Model\n",
      "------\n",
      "Best Parameters: {'C': 1.4}\n",
      "Accuracy: 0.8459\n",
      "F1-score: 0.7295\n",
      "Precision: 0.8132\n",
      "Recall: 0.6614\n"
     ]
    }
   ],
   "source": [
    "# Dict for parameters\n",
    "param_grid = {\n",
    "    'C': [1, 1.2, 1.3, 1.4]\n",
    "}\n",
    "\n",
    "clf_lr = LogisticRegression()\n",
    "\n",
    "param_tuning(clf_lr, param_grid, training_data, y_train, testing_data, y_test)"
   ]
  },
  {
   "cell_type": "markdown",
   "id": "4e6af399",
   "metadata": {},
   "source": [
    "### Decision Tree Classifier: "
   ]
  },
  {
   "cell_type": "code",
   "execution_count": 40,
   "id": "f95613ec",
   "metadata": {},
   "outputs": [
    {
     "name": "stdout",
     "output_type": "stream",
     "text": [
      "DecisionTreeClassifier\n",
      "\n",
      "Optimized Model\n",
      "------\n",
      "Best Parameters: {'min_samples_leaf': 1, 'min_samples_split': 5}\n",
      "Accuracy: 0.8269\n",
      "F1-score: 0.7176\n",
      "Precision: 0.7361\n",
      "Recall: 0.6999\n"
     ]
    }
   ],
   "source": [
    "param_grid = {\n",
    "    'min_samples_split': [2, 5, 8],\n",
    "    'min_samples_leaf': [1, 2, 5, 8]\n",
    "}\n",
    "\n",
    "clf_dt = DecisionTreeClassifier()\n",
    "\n",
    "param_tuning(clf_dt, param_grid, training_data, y_train, testing_data, y_test)"
   ]
  },
  {
   "cell_type": "markdown",
   "id": "86e3ba82",
   "metadata": {},
   "source": [
    "### Random Forest Classifier: "
   ]
  },
  {
   "cell_type": "code",
   "execution_count": 41,
   "id": "3ebaee1c",
   "metadata": {},
   "outputs": [
    {
     "name": "stdout",
     "output_type": "stream",
     "text": [
      "RandomForestClassifier\n",
      "\n",
      "Optimized Model\n",
      "------\n",
      "Best Parameters: {'min_samples_leaf': 1, 'min_samples_split': 5, 'n_estimators': 150}\n",
      "Accuracy: 0.8509\n",
      "F1-score: 0.7462\n",
      "Precision: 0.8019\n",
      "Recall: 0.6977\n"
     ]
    }
   ],
   "source": [
    "param_grid = {\n",
    "    'n_estimators': [50,150],\n",
    "    'min_samples_leaf': [1, 5],\n",
    "    'min_samples_split': [2, 5]\n",
    "}\n",
    "\n",
    "clf_rf = RandomForestClassifier()\n",
    "\n",
    "param_tuning(clf_rf, param_grid, training_data, y_train, testing_data, y_test)"
   ]
  },
  {
   "cell_type": "markdown",
   "id": "fd0c1c6e",
   "metadata": {},
   "source": [
    "### Linear SVC: "
   ]
  },
  {
   "cell_type": "code",
   "execution_count": 43,
   "id": "675c4b14",
   "metadata": {},
   "outputs": [
    {
     "name": "stdout",
     "output_type": "stream",
     "text": [
      "LinearSVC\n",
      "\n",
      "Optimized Model\n",
      "------\n",
      "Best Parameters: {'C': 0.25}\n",
      "Accuracy: 0.8469\n",
      "F1-score: 0.7362\n",
      "Precision: 0.8021\n",
      "Recall: 0.6803\n"
     ]
    }
   ],
   "source": [
    "param_grid = {\n",
    "    'C': [0.25, 0.5, 0.75, 1, 1.2]\n",
    "}\n",
    "\n",
    "clf_linsvc = LinearSVC()\n",
    "\n",
    "param_tuning(clf_linsvc, param_grid, training_data, y_train, testing_data, y_test)"
   ]
  },
  {
   "cell_type": "code",
   "execution_count": 49,
   "id": "a950320f",
   "metadata": {},
   "outputs": [
    {
     "data": {
      "text/plain": [
       "dict_keys(['alpha', 'class_prior', 'fit_prior'])"
      ]
     },
     "execution_count": 49,
     "metadata": {},
     "output_type": "execute_result"
    }
   ],
   "source": [
    "MultinomialNB().get_params().keys()"
   ]
  },
  {
   "cell_type": "markdown",
   "id": "7ffdee98",
   "metadata": {},
   "source": [
    "### Multinomial NB"
   ]
  },
  {
   "cell_type": "code",
   "execution_count": 50,
   "id": "fe800ef9",
   "metadata": {},
   "outputs": [
    {
     "name": "stdout",
     "output_type": "stream",
     "text": [
      "MultinomialNB\n",
      "\n",
      "Optimized Model\n",
      "------\n",
      "Best Parameters: {'alpha': 1.0, 'class_prior': None, 'fit_prior': True}\n",
      "Accuracy: 0.8340\n",
      "F1-score: 0.7399\n",
      "Precision: 0.7287\n",
      "Recall: 0.7513\n"
     ]
    }
   ],
   "source": [
    "#param_grid = {'var_smoothing': np.<a onclick=\"parent.postMessage({'referent':'.numpy.logspace'}\n",
    "    \n",
    "#param_grid_nb = {\n",
    "#    'var_smoothing': np.logspace(0,-9, num=100)\n",
    "#}\n",
    "\n",
    "alphas = [0.1, 0.2, 0.3, 0.4, 0.5, 0.6, 0.7, 0.8, 0.9, 1.0]\n",
    "p_grid_NB = {'alpha': alphas, 'fit_prior' : [True, False], 'class_prior' : [None, [.1,.9],[.2, .8]]}\n",
    "\n",
    "\n",
    "clf_mnb = MultinomialNB()\n",
    "param_tuning(clf_mnb, p_grid_NB, training_data, y_train, testing_data, y_test)"
   ]
  },
  {
   "cell_type": "markdown",
   "id": "c77e80ff",
   "metadata": {},
   "source": [
    "### Conclusion: "
   ]
  },
  {
   "cell_type": "markdown",
   "id": "8b07f754",
   "metadata": {},
   "source": [
    "We found Stochastic Gradient Classifier & MultinomialNB have better F1-scores compared to the rest of the models in terms of training & testing time etc. However, based on other evaluation metrics Stochastic Gradient Classifier is the best suited model for our data. We achieved the following performance parameters:\n",
    "\n",
    "F1-Score: 73.63 %\n",
    "Accuracy: 85.02 %\n",
    "Precision: 82.34 %\n",
    "Recall: 66.59 %"
   ]
  },
  {
   "cell_type": "code",
   "execution_count": null,
   "id": "701d491c",
   "metadata": {},
   "outputs": [],
   "source": []
  },
  {
   "cell_type": "code",
   "execution_count": 51,
   "id": "47708267",
   "metadata": {},
   "outputs": [
    {
     "data": {
      "text/plain": [
       "['cb_rf_final.sav']"
      ]
     },
     "execution_count": 51,
     "metadata": {},
     "output_type": "execute_result"
    }
   ],
   "source": [
    "filename = 'cb_rf_final.sav'  #Save the model\n",
    "joblib.dump(clf_rf, filename)"
   ]
  },
  {
   "cell_type": "code",
   "execution_count": null,
   "id": "441a2251",
   "metadata": {},
   "outputs": [],
   "source": []
  }
 ],
 "metadata": {
  "kernelspec": {
   "display_name": "Python 3 (ipykernel)",
   "language": "python",
   "name": "python3"
  },
  "language_info": {
   "codemirror_mode": {
    "name": "ipython",
    "version": 3
   },
   "file_extension": ".py",
   "mimetype": "text/x-python",
   "name": "python",
   "nbconvert_exporter": "python",
   "pygments_lexer": "ipython3",
   "version": "3.9.12"
  }
 },
 "nbformat": 4,
 "nbformat_minor": 5
}
