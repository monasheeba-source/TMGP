{
 "cells": [
  {
   "cell_type": "markdown",
   "metadata": {
    "execution": {
     "iopub.execute_input": "2022-10-06T07:26:08.815783Z",
     "iopub.status.busy": "2022-10-06T07:26:08.815177Z",
     "iopub.status.idle": "2022-10-06T07:26:19.140398Z",
     "shell.execute_reply": "2022-10-06T07:26:19.139445Z",
     "shell.execute_reply.started": "2022-10-06T07:26:08.815739Z"
    }
   },
   "source": [
    "# 🐉 Project 2: Game Of Thrones (Text Generation)\n",
    "\n",
    "🧾**Description:** This is a classic Text Generation problem, using scriptures of famous books, Game of Thrones in this case. Open-ended language models are trending research in this era which gives rise to deep learning models with distinct architecture. In this problem, we have provided the first couple of chapters from the Classic Game Of Thrones Book. Generating text on this corpus would lead to an advancement in AI fictional corpus generation.\n",
    "\n",
    "🧭 **Problem Statement:** You are provided with **got1**: you have to perform a step-by-step NLP approach to generate text based on input from any part of the book. Reference to performing the task has been attached below. "
   ]
  },
  {
   "cell_type": "code",
   "execution_count": 2,
   "metadata": {
    "execution": {
     "iopub.execute_input": "2022-10-06T07:26:19.143762Z",
     "iopub.status.busy": "2022-10-06T07:26:19.143518Z",
     "iopub.status.idle": "2022-10-06T07:26:23.905487Z",
     "shell.execute_reply": "2022-10-06T07:26:23.904740Z",
     "shell.execute_reply.started": "2022-10-06T07:26:19.143730Z"
    }
   },
   "outputs": [],
   "source": [
    "# keras module for building LSTM \n",
    "from tensorflow.keras.preprocessing.sequence import pad_sequences\n",
    "from keras.layers import Embedding, LSTM, Dense, Dropout\n",
    "from keras.preprocessing.text import Tokenizer\n",
    "from keras.callbacks import EarlyStopping\n",
    "from keras.models import Sequential\n",
    "import keras.utils as ku \n",
    "\n",
    "\n",
    "\n",
    "import pandas as pd\n",
    "import numpy as np\n",
    "import string, os \n",
    "\n",
    "import warnings\n",
    "warnings.filterwarnings(\"ignore\")\n",
    "warnings.simplefilter(action='ignore', category=FutureWarning)"
   ]
  },
  {
   "cell_type": "code",
   "execution_count": 3,
   "metadata": {
    "execution": {
     "iopub.execute_input": "2022-10-06T07:26:23.907147Z",
     "iopub.status.busy": "2022-10-06T07:26:23.906891Z",
     "iopub.status.idle": "2022-10-06T07:26:23.912454Z",
     "shell.execute_reply": "2022-10-06T07:26:23.911489Z",
     "shell.execute_reply.started": "2022-10-06T07:26:23.907108Z"
    }
   },
   "outputs": [],
   "source": [
    "import numpy\n",
    "from keras.models import Sequential\n",
    "from keras.layers import Dense\n",
    "from keras.layers import Dropout\n",
    "from keras.layers import LSTM\n",
    "from keras.callbacks import ModelCheckpoint\n",
    "from keras.utils import np_utils"
   ]
  },
  {
   "cell_type": "code",
   "execution_count": 5,
   "metadata": {
    "execution": {
     "iopub.execute_input": "2022-10-06T07:26:23.915447Z",
     "iopub.status.busy": "2022-10-06T07:26:23.915153Z",
     "iopub.status.idle": "2022-10-06T07:26:23.930308Z",
     "shell.execute_reply": "2022-10-06T07:26:23.929475Z",
     "shell.execute_reply.started": "2022-10-06T07:26:23.915406Z"
    }
   },
   "outputs": [],
   "source": [
    "# set seeds for reproducability\n",
    "\n",
    "from numpy.random import seed\n",
    "\n",
    "# keras module for building LSTM \n",
    "from tensorflow.keras.preprocessing.sequence import pad_sequences\n",
    "from keras.layers import Embedding, LSTM, Dense, Dropout\n",
    "from keras.preprocessing.text import Tokenizer\n",
    "from keras.callbacks import EarlyStopping\n",
    "from keras.models import Sequential\n",
    "import keras.utils as ku"
   ]
  },
  {
   "cell_type": "code",
   "execution_count": 7,
   "metadata": {
    "execution": {
     "iopub.execute_input": "2022-10-06T07:26:23.932988Z",
     "iopub.status.busy": "2022-10-06T07:26:23.932378Z",
     "iopub.status.idle": "2022-10-06T07:26:25.338768Z",
     "shell.execute_reply": "2022-10-06T07:26:25.337805Z",
     "shell.execute_reply.started": "2022-10-06T07:26:23.932939Z"
    }
   },
   "outputs": [],
   "source": [
    "import numpy as np\n",
    "import pandas as pd\n",
    "import matplotlib.pyplot as plt\n",
    "import seaborn as sns\n",
    "\n",
    "%matplotlib inline\n",
    "\n",
    "import re\n",
    "from nltk.corpus import stopwords\n",
    "import string\n",
    "\n",
    "import keras\n",
    "import tensorflow as tf\n",
    "from keras.preprocessing.text import Tokenizer\n",
    "from keras.utils.vis_utils import plot_model\n",
    "from tensorflow.keras.utils import to_categorical\n",
    "from keras.models import Sequential\n",
    "from keras.layers import Dense\n",
    "from tensorflow.keras.preprocessing.sequence import pad_sequences\n",
    "from keras.utils.vis_utils import plot_model\n",
    "from keras.models import Sequential\n",
    "from keras.layers import LSTM\n",
    "from keras.layers import Dense\n",
    "from keras.layers import Flatten\n",
    "from keras.layers import Embedding\n",
    "from keras.layers.convolutional import Conv1D\n",
    "from keras.layers.convolutional import MaxPooling1D\n",
    "from tensorflow.keras.optimizers import Adam\n",
    "\n",
    "import pickle"
   ]
  },
  {
   "cell_type": "code",
   "execution_count": 8,
   "metadata": {
    "execution": {
     "iopub.execute_input": "2022-10-06T07:26:25.340568Z",
     "iopub.status.busy": "2022-10-06T07:26:25.340296Z",
     "iopub.status.idle": "2022-10-06T07:26:25.345218Z",
     "shell.execute_reply": "2022-10-06T07:26:25.343997Z",
     "shell.execute_reply.started": "2022-10-06T07:26:25.340531Z"
    }
   },
   "outputs": [],
   "source": [
    "##### Let’s demonstrate this with a small pipeline of text preparation including:\n",
    "\n",
    "### 1)Load the raw text.\n",
    "#### 2)Split into tokens.\n",
    "#### 3)Convert to lowercase.\n",
    "#### 4)Remove punctuation from each token.\n",
    "#### 5)Filter out remaining tokens that are not alphabetic.\n",
    "#### 6)Filter out tokens that are stop words.\n",
    "#### 7)Stem words"
   ]
  },
  {
   "cell_type": "code",
   "execution_count": null,
   "metadata": {},
   "outputs": [],
   "source": []
  },
  {
   "cell_type": "markdown",
   "metadata": {},
   "source": [
    "##### Different Method"
   ]
  },
  {
   "cell_type": "code",
   "execution_count": 9,
   "metadata": {
    "execution": {
     "iopub.execute_input": "2022-10-06T07:26:25.347041Z",
     "iopub.status.busy": "2022-10-06T07:26:25.346405Z",
     "iopub.status.idle": "2022-10-06T07:26:25.356442Z",
     "shell.execute_reply": "2022-10-06T07:26:25.355746Z",
     "shell.execute_reply.started": "2022-10-06T07:26:25.347000Z"
    }
   },
   "outputs": [],
   "source": [
    "from keras.models import Sequential\n",
    "from keras.layers import Dense, Dropout, LSTM\n",
    "\n",
    "import numpy as np\n",
    "import random\n",
    "import sys"
   ]
  },
  {
   "cell_type": "code",
   "execution_count": 10,
   "metadata": {
    "execution": {
     "iopub.execute_input": "2022-10-06T07:26:25.358294Z",
     "iopub.status.busy": "2022-10-06T07:26:25.357682Z",
     "iopub.status.idle": "2022-10-06T07:26:25.390314Z",
     "shell.execute_reply": "2022-10-06T07:26:25.389399Z",
     "shell.execute_reply.started": "2022-10-06T07:26:25.358255Z"
    }
   },
   "outputs": [
    {
     "name": "stdout",
     "output_type": "stream",
     "text": [
      "a game of thrones \n",
      "book one of a song of ice and fire \n",
      "by george r. r. martin \n",
      "prologue \n",
      "\"we should start back,\" gared urged as the woods began to grow dark around them. \"the wildlings are \n",
      "dead.\" \n",
      "\"do the dead frighten you?\" ser waymar royce asked with just the hint of a smile. \n",
      "gared did not rise to the bait. he was an old man, past fifty, and he had seen the lordlings come and go. \n",
      "\"dead is dead,\" he said. \"we have no business with the dead.\" \n",
      "\"are they dead?\" royce asked softly. \"what proof have we?\" \n",
      "\"will saw them,\" gared said. \"if he says they are dead, that's proof enough for me.\" \n",
      "will had known they would drag him into the quarrel sooner or later. he wished it had been later rather \n",
      "than sooner. \"my mother told me that dead men sing no songs,\" he put in. \n",
      "\"my wet nurse said the same thing, will,\" royce replied. \"never believe anything you hear at a woman's \n",
      "tit. there are things to be learned even from the dead.\" his voice echoed, too loud in the twilit forest. \n",
      "page 1\n",
      "\n",
      "\"we h\n"
     ]
    }
   ],
   "source": [
    "#LOAD TEXT\n",
    "#Save notepad as UTF-8 (select from dropdown during saving)\n",
    "filename = \"got1.txt\"\n",
    "raw_text = open(filename, 'r', encoding='utf-8').read()\n",
    "raw_text = raw_text.lower()\n",
    "print(raw_text[0:1000])"
   ]
  },
  {
   "cell_type": "code",
   "execution_count": 12,
   "metadata": {
    "execution": {
     "iopub.execute_input": "2022-10-06T07:26:25.391943Z",
     "iopub.status.busy": "2022-10-06T07:26:25.391599Z",
     "iopub.status.idle": "2022-10-06T07:26:25.400450Z",
     "shell.execute_reply": "2022-10-06T07:26:25.399612Z",
     "shell.execute_reply.started": "2022-10-06T07:26:25.391908Z"
    }
   },
   "outputs": [],
   "source": [
    "# data cleaning process\n",
    "import re                                # Regular expressions to use sub function for replacing the useless text from the data\n",
    "\n",
    "def clean_text(text):\n",
    "    text = re.sub(r',', '', text)\n",
    "    text = re.sub(r'\\'', '',  text)\n",
    "    text = re.sub(r'\\\"', '', text)\n",
    "    text = re.sub(r'\\(', '', text)\n",
    "    text = re.sub(r'\\)', '', text)\n",
    "    text = re.sub(r'\\n', '', text)\n",
    "    text = re.sub(r'“', '', text)\n",
    "    text = re.sub(r'”', '', text)\n",
    "    text = re.sub(r'’', '', text)\n",
    "    text = re.sub(r'\\.', '', text)\n",
    "    text = re.sub(r';', '', text)\n",
    "    text = re.sub(r':', '', text)\n",
    "    text = re.sub(r'\\-', '', text)\n",
    "\n",
    "    return text"
   ]
  },
  {
   "cell_type": "code",
   "execution_count": 13,
   "metadata": {
    "execution": {
     "iopub.execute_input": "2022-10-06T07:26:25.404325Z",
     "iopub.status.busy": "2022-10-06T07:26:25.404103Z",
     "iopub.status.idle": "2022-10-06T07:26:25.420681Z",
     "shell.execute_reply": "2022-10-06T07:26:25.419943Z",
     "shell.execute_reply.started": "2022-10-06T07:26:25.404294Z"
    }
   },
   "outputs": [
    {
     "name": "stdout",
     "output_type": "stream",
     "text": [
      "['a game of thrones ', 'book one of a song of ice and fire ', 'by george r. r. martin ', 'prologue ', '\"we should start back,\" gared urged as the woods began to grow dark around them. \"the wildlings are ', 'dead.\" ', '\"do the dead frighten you?\" ser waymar royce asked with just the hint of a smile. ', 'gared did not rise to the bait. he was an old man, past fifty, and he had seen the lordlings come and go. ', '\"dead is dead,\" he said. \"we have no business with the dead.\" ', '\"are they dead?\" royce asked softly. \"what proof have we?\" ', '\"will saw them,\" gared said. \"if he says they are dead, that\\'s proof enough for me.\" ', 'will had known they would drag him into the quarrel sooner or later. he wished it had been later rather ', 'than sooner. \"my mother told me that dead men sing no songs,\" he put in. ', '\"my wet nurse said the same thing, will,\" royce replied. \"never believe anything you hear at a woman\\'s ', 'tit. there are things to be learned even from the dead.\" his voice echoed, too loud in the twilit forest. ', 'page 1', '', '\"we have a long ride before us,\" gared pointed out. \"eight days, maybe nine. and night is falling.\" ', 'ser waymar royce glanced at the sky with disinterest. \"it does that every day about this time. are you ', 'unmanned by the dark, gared?\" ', \"will could see the tightness around gared's mouth, the barely sup \", 'pressed anger in his eyes under the thick black hood of his cloak. gared had spent forty years in the ', \"night's watch, man and boy, and he was not accustomed to being made light of. yet it was more than \", 'that. under the wounded pride, will could sense something else in the older man. you could taste it; a ', 'nervous tension that came perilous close to fear. ', 'will shared his unease. he had been four years on the wall. the first time he had been sent beyond, all ', 'the old stories had come rushing back, and his bowels had turned to water. he had laughed about it ', 'afterward. he was a veteran of a hundred rangings by now, and the endless dark wilderness that the ', 'southron called the haunted forest had no more terrors for him. ', 'until tonight. something was different tonight. there was an edge to this darkness that made his hackles ', 'rise. nine days they had been riding, north and northwest and then north again, farther and farther from ', 'the wall, hard on the track of a band of wildling raiders. each day had been worse than the day that had ', 'come before it. today was the worst of all. a cold wind was blowing out of the north, and it made the ', 'trees rustle like living things. all day, will had felt as though something were watching him, something ', 'cold and implacable that loved him not. gared had felt it too. will wanted nothing so much as to ride ', 'hellbent for the safety of the wall, but that was not a feeling to share with your commander. ', 'especially not a commander like this one. ', 'ser waymar royce was the youngest son of an ancient house with too many heirs. he was a handsome ', 'youth of eighteen, grey-eyed and graceful and slender as a knife. mounted on his huge black destrier, the ', 'knight towered above will and gared on their smaller garrons. he wore black leather boots, black ', 'woolen pants, black moleskin gloves, and a fine supple coat of gleaming black ringmail over layers of ', \"black wool and boiled leather. ser waymar had been a sworn brother of the night's watch for less than \", 'half a year, but no one could say he had not prepared for his vocation. at least insofar as his wardrobe ', 'was concerned. ', 'his cloak was his crowning glory; sable, thick and black and soft as sin. \"bet he killed them all himself, ', 'he did,\" gared told the barracks over wine, \"twisted their little heads off, our mighty warrior.\" they had ', 'all shared the laugh. ', 'it is hard to take orders from a man you laughed at in your cups, will reflected as he sat shivering atop ', 'his garron. gared must have felt the same. ', '\"mormont said as we should track them, and we did,\" gared said. ', '\"they\\'re dead. they shan\\'t trouble us no more. there\\'s hard riding before us. i don\\'t like this weather. if ', \"it snows, we could be a fortnight getting back, and snow's the best we can hope for. ever seen an ice \", 'storm, my lord?\" ', 'the lordling seemed not to hear him. he studied the deepening twilight in that half-bored, half-distracted ', 'page 2', '', 'way he had. will had ridden with the knight long enough to understand that it was best not to interrupt ', 'him when he looked like that. \"tell me again what you saw, will. all the details. leave nothing out.\" ', \"will had been a hunter before he joined the night's watch. well, a poacher in truth. mallister freeriders \", \"had caught him red-handed in the mallisters' own woods, skinning one of the mallisters' own bucks, and \", 'it had been a choice of putting on the black or losing a hand. no one could move through the woods as ', 'silent as will, and it had not taken the black brothers long to discover his talent. ', '\"the camp is two miles farther on, over that ridge, hard beside a stream,\" will said. \"i got close as i ', \"dared. there's eight of them, men and women both. no children i could see. they put up a lean-to \", \"against the rock. the snow's pretty well covered it now, but i could still make it out. no fire burning, but \", 'the firepit was still plain as day. no one moving. i watched a long time. no living man ever lay so still.\" ', '\"did you see any blood?\" ', '\"well, no,\" will admitted. ', '\"did you see any weapons?\" ', '\"some swords, a few bows. one man had an axe. heavy-looking, double-bladed, a cruel piece of iron. ', 'it was on the ground beside him, right by his hand.\" ', '\"did you make note of the position of the bodies?\" ', 'will shrugged. \"a couple are sitting up against the rock. most of them on the ground. fallen, like.\" ', '\"or sleeping,\" royce suggested. ', '\"fallen,\" will insisted. \"there\\'s one woman up an ironwood, halfhid in the branches. a far-eyes.\" he ', 'smiled thinly. \"i took care she never saw me. when i got closer, i saw that she wasn\\'t moving neither.\" ', 'despite himself, he shivered. ', '\"you have a chill?\" royce asked. ', '\"some,\" will muttered. \"the wind, m\\'lord.\" ', 'the young knight turned back to his grizzled man-at-arms. frostfallen leaves whispered past them, and ', 'royce\\'s destrier moved restlessly. \"what do you think might have killed these men, gared?\" ser ', 'waymar asked casually. he adjusted the drape of his long sable cloak. ', '\"it was the cold,\" gared said with iron certainty. \"i saw men freeze ', 'last winter, and the one before, when i was half a boy. everyone talks about snows forty foot deep, and ', 'how the ice wind comes howling out of the north, but the real enemy is the cold. it steals up on you ', 'quieter than will, and at first you shiver and your teeth chatter and you stamp your feet and dream of ', 'mulled wine and nice hot fires. it burns, it does. nothing burns like the cold. but only for a while. then it ', \"gets inside you and starts to fill you up, and after a while you don't have the strength to fight it. it's easier \", \"just to sit down or go to sleep. they say you don't feel any pain toward the end. first you go weak and \", 'drowsy, and everything starts to fade, and then it\\'s like sinking into a sea of warm milk. peaceful, like.\" ', '\"such eloquence, gared,\" ser waymar observed. \"i never suspected you had it in you.\" ', 'page 3', '', '\"i\\'ve had the cold in me too, lordling.\" gared pulled back his hood, giving ser waymar a good long look ', 'at the stumps where his ears had been. \"two ears, three toes, and the little finger off my left hand. i got ', 'off light. we found my brother frozen at his watch, with a smile on his face.\" ', 'ser waymar shrugged. \"you ought dress more warmly, gared.\" ', 'gared glared at the lordling, the scars around his ear holes flushed red with anger where maester ', 'aemon had cut the ears away. \"we\\'ll see how warm you can dress when the winter comes.\" he pulled ', 'up his hood and hunched over his garron, silent and sullen. ']\n"
     ]
    }
   ],
   "source": [
    "# cleaning the data\n",
    "lower_data = raw_text.lower()           # Converting the string to lower case to get uniformity\n",
    "\n",
    "split_data = lower_data.splitlines()      # Splitting the data to get every line seperately but this will give the list of uncleaned data\n",
    "\n",
    "print(split_data[0:100])                       \n"
   ]
  },
  {
   "cell_type": "code",
   "execution_count": 14,
   "metadata": {
    "execution": {
     "iopub.execute_input": "2022-10-06T07:26:25.422316Z",
     "iopub.status.busy": "2022-10-06T07:26:25.421999Z",
     "iopub.status.idle": "2022-10-06T07:26:25.843576Z",
     "shell.execute_reply": "2022-10-06T07:26:25.842659Z",
     "shell.execute_reply.started": "2022-10-06T07:26:25.422280Z"
    }
   },
   "outputs": [
    {
     "name": "stdout",
     "output_type": "stream",
     "text": [
      "\n",
      "a game of thrones \n",
      "book one of a song of ice and fire \n",
      "by george r r martin \n",
      "prologue \n",
      "we should st\n"
     ]
    }
   ],
   "source": [
    "final = ''                                # initiating a argument with blank string to hold the values of final cleaned data\n",
    "\n",
    "for line in split_data:\n",
    "    line = clean_text(line)\n",
    "    final += '\\n' + line\n",
    "\n",
    "print(final[0:100])  "
   ]
  },
  {
   "cell_type": "code",
   "execution_count": 15,
   "metadata": {
    "execution": {
     "iopub.execute_input": "2022-10-06T07:26:25.850874Z",
     "iopub.status.busy": "2022-10-06T07:26:25.847524Z",
     "iopub.status.idle": "2022-10-06T07:26:25.864113Z",
     "shell.execute_reply": "2022-10-06T07:26:25.863409Z",
     "shell.execute_reply.started": "2022-10-06T07:26:25.850828Z"
    }
   },
   "outputs": [
    {
     "name": "stdout",
     "output_type": "stream",
     "text": [
      "['', 'a game of thrones ', 'book one of a song of ice and fire ', 'by george r r martin ', 'prologue ', 'we should start back gared urged as the woods began to grow dark around them the wildlings are ', 'dead ', 'do the dead frighten you? ser waymar royce asked with just the hint of a smile ', 'gared did not rise to the bait he was an old man past fifty and he had seen the lordlings come and go ', 'dead is dead he said we have no business with the dead ', 'are they dead? royce asked softly what proof have we? ', 'will saw them gared said if he says they are dead thats proof enough for me ', 'will had known they would drag him into the quarrel sooner or later he wished it had been later rather ', 'than sooner my mother told me that dead men sing no songs he put in ', 'my wet nurse said the same thing will royce replied never believe anything you hear at a womans ', 'tit there are things to be learned even from the dead his voice echoed too loud in the twilit forest ', 'page 1', '', 'we have a long ride before us gared pointed out eight days maybe nine and night is falling ', 'ser waymar royce glanced at the sky with disinterest it does that every day about this time are you ', 'unmanned by the dark gared? ', 'will could see the tightness around gareds mouth the barely sup ', 'pressed anger in his eyes under the thick black hood of his cloak gared had spent forty years in the ', 'nights watch man and boy and he was not accustomed to being made light of yet it was more than ', 'that under the wounded pride will could sense something else in the older man you could taste it a ', 'nervous tension that came perilous close to fear ', 'will shared his unease he had been four years on the wall the first time he had been sent beyond all ', 'the old stories had come rushing back and his bowels had turned to water he had laughed about it ', 'afterward he was a veteran of a hundred rangings by now and the endless dark wilderness that the ', 'southron called the haunted forest had no more terrors for him ', 'until tonight something was different tonight there was an edge to this darkness that made his hackles ', 'rise nine days they had been riding north and northwest and then north again farther and farther from ', 'the wall hard on the track of a band of wildling raiders each day had been worse than the day that had ', 'come before it today was the worst of all a cold wind was blowing out of the north and it made the ', 'trees rustle like living things all day will had felt as though something were watching him something ', 'cold and implacable that loved him not gared had felt it too will wanted nothing so much as to ride ', 'hellbent for the safety of the wall but that was not a feeling to share with your commander ', 'especially not a commander like this one ', 'ser waymar royce was the youngest son of an ancient house with too many heirs he was a handsome ', 'youth of eighteen greyeyed and graceful and slender as a knife mounted on his huge black destrier the ', 'knight towered above will and gared on their smaller garrons he wore black leather boots black ', 'woolen pants black moleskin gloves and a fine supple coat of gleaming black ringmail over layers of ', 'black wool and boiled leather ser waymar had been a sworn brother of the nights watch for less than ', 'half a year but no one could say he had not prepared for his vocation at least insofar as his wardrobe ', 'was concerned ', 'his cloak was his crowning glory sable thick and black and soft as sin bet he killed them all himself ', 'he did gared told the barracks over wine twisted their little heads off our mighty warrior they had ', 'all shared the laugh ', 'it is hard to take orders from a man you laughed at in your cups will reflected as he sat shivering atop ', 'his garron gared must have felt the same ', 'mormont said as we should track them and we did gared said ', 'theyre dead they shant trouble us no more theres hard riding before us i dont like this weather if ', 'it snows we could be a fortnight getting back and snows the best we can hope for ever seen an ice ', 'storm my lord? ', 'the lordling seemed not to hear him he studied the deepening twilight in that halfbored halfdistracted ', 'page 2', '', 'way he had will had ridden with the knight long enough to understand that it was best not to interrupt ', 'him when he looked like that tell me again what you saw will all the details leave nothing out ', 'will had been a hunter before he joined the nights watch well a poacher in truth mallister freeriders ', 'had caught him redhanded in the mallisters own woods skinning one of the mallisters own bucks and ', 'it had been a choice of putting on the black or losing a hand no one could move through the woods as ', 'silent as will and it had not taken the black brothers long to discover his talent ', 'the camp is two miles farther on over that ridge hard beside a stream will said i got close as i ', 'dared theres eight of them men and women both no children i could see they put up a leanto ', 'against the rock the snows pretty well covered it now but i could still make it out no fire burning but ', 'the firepit was still plain as day no one moving i watched a long time no living man ever lay so still ', 'did you see any blood? ', 'well no will admitted ', 'did you see any weapons? ', 'some swords a few bows one man had an axe heavylooking doublebladed a cruel piece of iron ', 'it was on the ground beside him right by his hand ', 'did you make note of the position of the bodies? ', 'will shrugged a couple are sitting up against the rock most of them on the ground fallen like ', 'or sleeping royce suggested ', 'fallen will insisted theres one woman up an ironwood halfhid in the branches a fareyes he ', 'smiled thinly i took care she never saw me when i got closer i saw that she wasnt moving neither ', 'despite himself he shivered ', 'you have a chill? royce asked ', 'some will muttered the wind mlord ', 'the young knight turned back to his grizzled manatarms frostfallen leaves whispered past them and ', 'royces destrier moved restlessly what do you think might have killed these men gared? ser ', 'waymar asked casually he adjusted the drape of his long sable cloak ', 'it was the cold gared said with iron certainty i saw men freeze ', 'last winter and the one before when i was half a boy everyone talks about snows forty foot deep and ', 'how the ice wind comes howling out of the north but the real enemy is the cold it steals up on you ', 'quieter than will and at first you shiver and your teeth chatter and you stamp your feet and dream of ', 'mulled wine and nice hot fires it burns it does nothing burns like the cold but only for a while then it ', 'gets inside you and starts to fill you up and after a while you dont have the strength to fight it its easier ', 'just to sit down or go to sleep they say you dont feel any pain toward the end first you go weak and ', 'drowsy and everything starts to fade and then its like sinking into a sea of warm milk peaceful like ', 'such eloquence gared ser waymar observed i never suspected you had it in you ', 'page 3', '', 'ive had the cold in me too lordling gared pulled back his hood giving ser waymar a good long look ', 'at the stumps where his ears had been two ears three toes and the little finger off my left hand i got ', 'off light we found my brother frozen at his watch with a smile on his face ', 'ser waymar shrugged you ought dress more warmly gared ', 'gared glared at the lordling the scars around his ear holes flushed red with anger where maester ', 'aemon had cut the ears away well see how warm you can dress when the winter comes he pulled ']\n"
     ]
    }
   ],
   "source": [
    "final_data = final.split('\\n')       # splitting again to get list of cleaned and splitted data ready to be processed\n",
    "print(final_data[0:100]) "
   ]
  },
  {
   "cell_type": "code",
   "execution_count": 16,
   "metadata": {
    "execution": {
     "iopub.execute_input": "2022-10-06T07:26:25.870520Z",
     "iopub.status.busy": "2022-10-06T07:26:25.868531Z",
     "iopub.status.idle": "2022-10-06T07:26:26.511350Z",
     "shell.execute_reply": "2022-10-06T07:26:26.510539Z",
     "shell.execute_reply.started": "2022-10-06T07:26:25.870481Z"
    }
   },
   "outputs": [],
   "source": [
    "from tensorflow.keras.preprocessing.text import Tokenizer\n",
    "from tensorflow.keras.preprocessing.sequence import pad_sequences\n",
    "\n",
    "# Instantiating the Tokenizer\n",
    "max_vocab = 50\n",
    "tokenizer = Tokenizer(num_words=max_vocab)\n",
    "tokenizer.fit_on_texts(final_data)\n"
   ]
  },
  {
   "cell_type": "code",
   "execution_count": 17,
   "metadata": {
    "execution": {
     "iopub.execute_input": "2022-10-06T07:26:26.518156Z",
     "iopub.status.busy": "2022-10-06T07:26:26.516144Z",
     "iopub.status.idle": "2022-10-06T07:26:26.527535Z",
     "shell.execute_reply": "2022-10-06T07:26:26.526581Z",
     "shell.execute_reply.started": "2022-10-06T07:26:26.518114Z"
    }
   },
   "outputs": [
    {
     "name": "stdout",
     "output_type": "stream",
     "text": [
      "12512\n"
     ]
    }
   ],
   "source": [
    "# Getting the total number of words of the data.\n",
    "word2idx = tokenizer.word_index\n",
    "print(len(word2idx))\n",
    "###print(word2idx)\n",
    "vocab_size = len(word2idx) + 1        # Adding 1 to the vocab_size because the index starts from 1 not 0. This will make it uniform when using it further\n",
    "###print(vocab_size)\n"
   ]
  },
  {
   "cell_type": "code",
   "execution_count": 18,
   "metadata": {
    "execution": {
     "iopub.execute_input": "2022-10-06T07:26:26.534363Z",
     "iopub.status.busy": "2022-10-06T07:26:26.532139Z",
     "iopub.status.idle": "2022-10-06T07:26:27.264293Z",
     "shell.execute_reply": "2022-10-06T07:26:27.263454Z",
     "shell.execute_reply.started": "2022-10-06T07:26:26.534318Z"
    }
   },
   "outputs": [],
   "source": [
    "# We will turn the sentences to sequences line by line and create n_gram sequences\n",
    "\n",
    "input_seq = []\n",
    "\n",
    "for line in final_data:\n",
    "    token_list = tokenizer.texts_to_sequences([line])[0]\n",
    "    for i in range(1, len(token_list)):\n",
    "        n_gram_seq = token_list[:i+1]\n",
    "        input_seq.append(n_gram_seq)\n",
    "\n",
    "####print(input_seq)\n",
    "####print(input_seq[0:100])"
   ]
  },
  {
   "cell_type": "code",
   "execution_count": 19,
   "metadata": {
    "execution": {
     "iopub.execute_input": "2022-10-06T07:26:27.270607Z",
     "iopub.status.busy": "2022-10-06T07:26:27.268682Z",
     "iopub.status.idle": "2022-10-06T07:26:27.299915Z",
     "shell.execute_reply": "2022-10-06T07:26:27.299303Z",
     "shell.execute_reply.started": "2022-10-06T07:26:27.270564Z"
    }
   },
   "outputs": [
    {
     "name": "stdout",
     "output_type": "stream",
     "text": [
      "17\n"
     ]
    }
   ],
   "source": [
    "# Getting the maximum length of sequence for padding purpose\n",
    "max_seq_length = max(len(x) for x in input_seq)\n",
    "print(max_seq_length)"
   ]
  },
  {
   "cell_type": "code",
   "execution_count": 20,
   "metadata": {
    "execution": {
     "iopub.execute_input": "2022-10-06T07:26:27.305390Z",
     "iopub.status.busy": "2022-10-06T07:26:27.303533Z",
     "iopub.status.idle": "2022-10-06T07:26:27.579264Z",
     "shell.execute_reply": "2022-10-06T07:26:27.578420Z",
     "shell.execute_reply.started": "2022-10-06T07:26:27.305353Z"
    }
   },
   "outputs": [
    {
     "name": "stdout",
     "output_type": "stream",
     "text": [
      "[[ 0  0  0 ...  0  4  5]\n",
      " [ 0  0  0 ...  0 46  5]\n",
      " [ 0  0  0 ... 46  5  4]\n",
      " ...\n",
      " [ 0  0  0 ... 11  5  1]\n",
      " [ 0  0  0 ...  5  1 18]\n",
      " [ 0  0  0 ...  1 18  1]]\n"
     ]
    }
   ],
   "source": [
    "import numpy as np\n",
    "# Padding the sequences and converting them to array\n",
    "input_seq = np.array(pad_sequences(input_seq, maxlen=max_seq_length, padding='pre'))\n",
    "print(input_seq)"
   ]
  },
  {
   "cell_type": "code",
   "execution_count": 21,
   "metadata": {
    "execution": {
     "iopub.execute_input": "2022-10-06T07:26:27.581190Z",
     "iopub.status.busy": "2022-10-06T07:26:27.580743Z",
     "iopub.status.idle": "2022-10-06T07:26:27.588771Z",
     "shell.execute_reply": "2022-10-06T07:26:27.588004Z",
     "shell.execute_reply.started": "2022-10-06T07:26:27.581150Z"
    }
   },
   "outputs": [
    {
     "name": "stdout",
     "output_type": "stream",
     "text": [
      "xs:  [[ 0  0  0 ...  0  0  4]\n",
      " [ 0  0  0 ...  0  0 46]\n",
      " [ 0  0  0 ...  0 46  5]\n",
      " ...\n",
      " [ 0  0  0 ...  1 11  5]\n",
      " [ 0  0  0 ... 11  5  1]\n",
      " [ 0  0  0 ...  5  1 18]]\n",
      "labels: [ 5  5  4 ...  1 18  1]\n"
     ]
    }
   ],
   "source": [
    "# Taking xs and labels to train the model.\n",
    "\n",
    "xs = input_seq[:, :-1]        # xs contains every word in sentence except the last one because we are using this value to predict the y value\n",
    "labels = input_seq[:, -1]     # labels contains only the last word of the sentence which will help in hot encoding the y value in next step\n",
    "print(\"xs: \",xs)\n",
    "print(\"labels:\",labels)"
   ]
  },
  {
   "cell_type": "code",
   "execution_count": 22,
   "metadata": {
    "execution": {
     "iopub.execute_input": "2022-10-06T07:26:27.590500Z",
     "iopub.status.busy": "2022-10-06T07:26:27.590067Z",
     "iopub.status.idle": "2022-10-06T07:26:27.864518Z",
     "shell.execute_reply": "2022-10-06T07:26:27.863718Z",
     "shell.execute_reply.started": "2022-10-06T07:26:27.590464Z"
    }
   },
   "outputs": [
    {
     "name": "stdout",
     "output_type": "stream",
     "text": [
      "[[0. 0. 0. ... 0. 0. 0.]\n",
      " [0. 0. 0. ... 0. 0. 0.]\n",
      " [0. 0. 0. ... 0. 0. 0.]\n",
      " ...\n",
      " [0. 1. 0. ... 0. 0. 0.]\n",
      " [0. 0. 0. ... 0. 0. 0.]\n",
      " [0. 1. 0. ... 0. 0. 0.]]\n"
     ]
    }
   ],
   "source": [
    "from tensorflow.keras.utils import to_categorical\n",
    "\n",
    "# one-hot encoding the labels according to the vocab size\n",
    "\n",
    "# The matrix is square matrix of the size of vocab_size. Each row will denote a label and it will have \n",
    "# a single +ve value(i.e 1) for that label and other values will be zero. \n",
    "\n",
    "ys = to_categorical(labels, num_classes=vocab_size)\n",
    "print(ys)"
   ]
  },
  {
   "cell_type": "code",
   "execution_count": 23,
   "metadata": {
    "execution": {
     "iopub.execute_input": "2022-10-06T07:26:27.866896Z",
     "iopub.status.busy": "2022-10-06T07:26:27.865976Z",
     "iopub.status.idle": "2022-10-06T07:26:27.873587Z",
     "shell.execute_reply": "2022-10-06T07:26:27.872604Z",
     "shell.execute_reply.started": "2022-10-06T07:26:27.866850Z"
    }
   },
   "outputs": [],
   "source": [
    "from tensorflow.keras.layers import Input, Dense, Embedding, LSTM, Dropout, Bidirectional, GlobalMaxPooling1D\n",
    "from tensorflow.keras.models import Model\n",
    "from tensorflow.keras.optimizers import Adam\n",
    "from tensorflow.keras.models import Sequential\n"
   ]
  },
  {
   "cell_type": "code",
   "execution_count": 24,
   "metadata": {
    "execution": {
     "iopub.execute_input": "2022-10-06T07:26:27.875651Z",
     "iopub.status.busy": "2022-10-06T07:26:27.875339Z",
     "iopub.status.idle": "2022-10-06T07:26:31.641862Z",
     "shell.execute_reply": "2022-10-06T07:26:31.641030Z",
     "shell.execute_reply.started": "2022-10-06T07:26:27.875605Z"
    }
   },
   "outputs": [],
   "source": [
    "# using the pipeline method of sequential to define a model\n",
    "\n",
    "model = Sequential()\n",
    "model.add(Embedding(vocab_size,64 , input_length=max_seq_length-1))\n",
    "model.add(Dropout(0.5))\n",
    "model.add(LSTM(20, return_sequences=True))\n",
    "model.add(Bidirectional(LSTM(20, return_sequences=True)))\n",
    "model.add(GlobalMaxPooling1D())\n",
    "model.add(Dense(vocab_size, activation='relu'))\n",
    "model.add(Dense(vocab_size, activation='softmax'))\n"
   ]
  },
  {
   "cell_type": "code",
   "execution_count": 25,
   "metadata": {
    "execution": {
     "iopub.execute_input": "2022-10-06T07:26:31.643453Z",
     "iopub.status.busy": "2022-10-06T07:26:31.643184Z",
     "iopub.status.idle": "2022-10-06T07:26:31.656719Z",
     "shell.execute_reply": "2022-10-06T07:26:31.655941Z",
     "shell.execute_reply.started": "2022-10-06T07:26:31.643412Z"
    }
   },
   "outputs": [],
   "source": [
    "model.compile(optimizer=Adam(lr=0.001),\n",
    "              loss = 'categorical_crossentropy',\n",
    "              metrics=['accuracy'])\n"
   ]
  },
  {
   "cell_type": "code",
   "execution_count": 26,
   "metadata": {
    "execution": {
     "iopub.execute_input": "2022-10-06T07:26:31.658334Z",
     "iopub.status.busy": "2022-10-06T07:26:31.658074Z",
     "iopub.status.idle": "2022-10-06T07:26:31.670423Z",
     "shell.execute_reply": "2022-10-06T07:26:31.669407Z",
     "shell.execute_reply.started": "2022-10-06T07:26:31.658297Z"
    }
   },
   "outputs": [
    {
     "name": "stdout",
     "output_type": "stream",
     "text": [
      "Model: \"sequential\"\n",
      "_________________________________________________________________\n",
      " Layer (type)                Output Shape              Param #   \n",
      "=================================================================\n",
      " embedding (Embedding)       (None, 16, 64)            800832    \n",
      "                                                                 \n",
      " dropout (Dropout)           (None, 16, 64)            0         \n",
      "                                                                 \n",
      " lstm (LSTM)                 (None, 16, 20)            6800      \n",
      "                                                                 \n",
      " bidirectional (Bidirectiona  (None, 16, 40)           6560      \n",
      " l)                                                              \n",
      "                                                                 \n",
      " global_max_pooling1d (Globa  (None, 40)               0         \n",
      " lMaxPooling1D)                                                  \n",
      "                                                                 \n",
      " dense (Dense)               (None, 12513)             513033    \n",
      "                                                                 \n",
      " dense_1 (Dense)             (None, 12513)             156587682 \n",
      "                                                                 \n",
      "=================================================================\n",
      "Total params: 157,914,907\n",
      "Trainable params: 157,914,907\n",
      "Non-trainable params: 0\n",
      "_________________________________________________________________\n"
     ]
    }
   ],
   "source": [
    "model.summary() "
   ]
  },
  {
   "cell_type": "code",
   "execution_count": 27,
   "metadata": {
    "execution": {
     "iopub.execute_input": "2022-10-06T07:26:31.671770Z",
     "iopub.status.busy": "2022-10-06T07:26:31.671492Z"
    }
   },
   "outputs": [
    {
     "name": "stdout",
     "output_type": "stream",
     "text": [
      "Epoch 1/30\n",
      "3380/3380 [==============================] - 2251s 662ms/step - loss: 3.4510 - accuracy: 0.1459\n",
      "Epoch 2/30\n",
      "3380/3380 [==============================] - 4874s 1s/step - loss: 3.2894 - accuracy: 0.1640\n",
      "Epoch 3/30\n",
      "3380/3380 [==============================] - 2024s 599ms/step - loss: 3.2375 - accuracy: 0.1733\n",
      "Epoch 4/30\n",
      "3380/3380 [==============================] - 2024s 599ms/step - loss: 3.2130 - accuracy: 0.1760\n",
      "Epoch 5/30\n",
      "3380/3380 [==============================] - 2012s 595ms/step - loss: 3.1983 - accuracy: 0.1774\n",
      "Epoch 6/30\n",
      "3380/3380 [==============================] - 2416s 715ms/step - loss: 3.1852 - accuracy: 0.1797\n",
      "Epoch 7/30\n",
      "3380/3380 [==============================] - 1952s 577ms/step - loss: 3.1736 - accuracy: 0.1816\n",
      "Epoch 8/30\n",
      "3380/3380 [==============================] - 1912s 566ms/step - loss: 3.1622 - accuracy: 0.1831\n",
      "Epoch 9/30\n",
      "3380/3380 [==============================] - 1921s 568ms/step - loss: 3.1522 - accuracy: 0.1837\n",
      "Epoch 10/30\n",
      "3380/3380 [==============================] - 1926s 570ms/step - loss: 3.1410 - accuracy: 0.1858\n",
      "Epoch 11/30\n",
      "3380/3380 [==============================] - 1926s 570ms/step - loss: 3.1306 - accuracy: 0.1877\n",
      "Epoch 12/30\n",
      "3380/3380 [==============================] - 1924s 569ms/step - loss: 3.1170 - accuracy: 0.1888\n",
      "Epoch 13/30\n",
      "3380/3380 [==============================] - 1930s 571ms/step - loss: 3.1055 - accuracy: 0.1906\n",
      "Epoch 14/30\n",
      "3380/3380 [==============================] - 1923s 569ms/step - loss: 3.0896 - accuracy: 0.1926\n",
      "Epoch 15/30\n",
      "3380/3380 [==============================] - 1926s 570ms/step - loss: 3.0748 - accuracy: 0.1944\n",
      "Epoch 16/30\n",
      "3380/3380 [==============================] - 1923s 569ms/step - loss: 3.0577 - accuracy: 0.1972\n",
      "Epoch 17/30\n",
      "3380/3380 [==============================] - 1922s 569ms/step - loss: 3.0396 - accuracy: 0.1996\n",
      "Epoch 18/30\n",
      "3380/3380 [==============================] - 1925s 569ms/step - loss: 3.0199 - accuracy: 0.2025\n",
      "Epoch 19/30\n",
      "3380/3380 [==============================] - 1917s 567ms/step - loss: 2.9984 - accuracy: 0.2053\n",
      "Epoch 20/30\n",
      "3380/3380 [==============================] - 1919s 568ms/step - loss: 2.9770 - accuracy: 0.2079\n",
      "Epoch 21/30\n",
      "3380/3380 [==============================] - 2152s 637ms/step - loss: 2.9519 - accuracy: 0.2108\n",
      "Epoch 22/30\n",
      "3380/3380 [==============================] - 2249s 665ms/step - loss: 2.9261 - accuracy: 0.2168\n",
      "Epoch 23/30\n",
      "3380/3380 [==============================] - 1999s 592ms/step - loss: 2.9013 - accuracy: 0.2200\n",
      "Epoch 24/30\n",
      "3380/3380 [==============================] - 1916s 567ms/step - loss: 2.8733 - accuracy: 0.2253\n",
      "Epoch 25/30\n",
      "3380/3380 [==============================] - 1928s 571ms/step - loss: 2.8462 - accuracy: 0.2296\n",
      "Epoch 26/30\n",
      "3380/3380 [==============================] - 1925s 569ms/step - loss: 2.8181 - accuracy: 0.2345\n",
      "Epoch 27/30\n",
      "3380/3380 [==============================] - 1920s 568ms/step - loss: 2.7914 - accuracy: 0.2417\n",
      "Epoch 28/30\n",
      "3380/3380 [==============================] - 1910s 565ms/step - loss: 2.7603 - accuracy: 0.2476\n",
      "Epoch 29/30\n",
      "3380/3380 [==============================] - 1910s 565ms/step - loss: 2.7351 - accuracy: 0.2507\n",
      "Epoch 30/30\n",
      "3380/3380 [==============================] - 1892s 560ms/step - loss: 2.7056 - accuracy: 0.2579\n"
     ]
    }
   ],
   "source": [
    "r = model.fit(xs,ys,epochs=30)"
   ]
  },
  {
   "cell_type": "code",
   "execution_count": 28,
   "metadata": {},
   "outputs": [
    {
     "data": {
      "text/plain": [
       "[<matplotlib.lines.Line2D at 0x195871b5be0>]"
      ]
     },
     "execution_count": 28,
     "metadata": {},
     "output_type": "execute_result"
    },
    {
     "data": {
      "image/png": "[encoded data removed]",
      "text/plain": [
       "<Figure size 432x288 with 1 Axes>"
      ]
     },
     "metadata": {
      "needs_background": "light"
     },
     "output_type": "display_data"
    }
   ],
   "source": [
    "# Evaluating the model on accuracy\n",
    "import matplotlib.pyplot as plt\n",
    "plt.plot(r.history['accuracy'])"
   ]
  },
  {
   "cell_type": "code",
   "execution_count": 44,
   "metadata": {},
   "outputs": [],
   "source": [
    "def predict_words(seed, no_words):\n",
    "    for i in range(no_words):\n",
    "        token_list = tokenizer.texts_to_sequences([seed])[0]\n",
    "        token_list = pad_sequences([token_list], maxlen=max_seq_length-1, padding='pre')\n",
    "        predicted = np.argmax(model.predict(token_list), axis=1)\n",
    "        new_word = ''\n",
    "        for word, index in tokenizer.word_index.items():\n",
    "            if predicted == index:\n",
    "                new_word = word\n",
    "                break\n",
    "        seed += \" \" + new_word\n",
    "    print(seed)"
   ]
  },
  {
   "cell_type": "code",
   "execution_count": 45,
   "metadata": {},
   "outputs": [
    {
     "name": "stdout",
     "output_type": "stream",
     "text": [
      "1/1 [==============================] - 0s 24ms/step\n",
      "1/1 [==============================] - 0s 30ms/step\n",
      "1/1 [==============================] - 0s 43ms/step\n",
      "1/1 [==============================] - 0s 37ms/step\n",
      "1/1 [==============================] - 0s 39ms/step\n",
      "1/1 [==============================] - 0s 32ms/step\n",
      "1/1 [==============================] - 0s 32ms/step\n",
      "1/1 [==============================] - 0s 32ms/step\n",
      "1/1 [==============================] - 0s 33ms/step\n",
      "1/1 [==============================] - 0s 34ms/step\n",
      "1/1 [==============================] - 0s 37ms/step\n",
      "1/1 [==============================] - 0s 31ms/step\n",
      "1/1 [==============================] - 0s 27ms/step\n",
      "1/1 [==============================] - 0s 32ms/step\n",
      "1/1 [==============================] - 0s 37ms/step\n",
      "ome will muttered be to the the the of the the of the of the the of the\n"
     ]
    }
   ],
   "source": [
    "# predicting or generating the poem with the seed text\n",
    "\n",
    "seed_text = 'ome will muttered'\n",
    "next_words = 15\n",
    "\n",
    "predict_words(seed_text, next_words)"
   ]
  },
  {
   "cell_type": "code",
   "execution_count": 37,
   "metadata": {},
   "outputs": [
    {
     "name": "stdout",
     "output_type": "stream",
     "text": [
      "1/1 [==============================] - 0s 49ms/step\n",
      "1/1 [==============================] - 0s 37ms/step\n",
      "1/1 [==============================] - 0s 31ms/step\n",
      "1/1 [==============================] - 0s 37ms/step\n",
      "1/1 [==============================] - 0s 39ms/step\n",
      "1/1 [==============================] - 0s 50ms/step\n",
      "1/1 [==============================] - 0s 40ms/step\n",
      "1/1 [==============================] - 0s 31ms/step\n",
      "1/1 [==============================] - 0s 40ms/step\n",
      "1/1 [==============================] - 0s 46ms/step\n",
      "southron called the haunted of the the of the and the of the the\n"
     ]
    }
   ],
   "source": [
    "# predicting or generating the poem with the seed text\n",
    "\n",
    "seed_text = 'southron called the haunted'\n",
    "next_words = 10\n",
    "\n",
    "predict_words(seed_text, next_words)"
   ]
  },
  {
   "cell_type": "code",
   "execution_count": 41,
   "metadata": {},
   "outputs": [
    {
     "name": "stdout",
     "output_type": "stream",
     "text": [
      "1/1 [==============================] - 0s 35ms/step\n",
      "1/1 [==============================] - 0s 41ms/step\n",
      "1/1 [==============================] - 0s 37ms/step\n",
      "1/1 [==============================] - 0s 43ms/step\n",
      "we should start back the of the the\n"
     ]
    }
   ],
   "source": [
    "seed_text = 'we should start back'\n",
    "next_words = 4\n",
    "predict_words(seed_text, next_words)"
   ]
  },
  {
   "cell_type": "code",
   "execution_count": 39,
   "metadata": {},
   "outputs": [
    {
     "name": "stdout",
     "output_type": "stream",
     "text": [
      "1/1 [==============================] - 0s 43ms/step\n",
      "1/1 [==============================] - 0s 26ms/step\n",
      "1/1 [==============================] - 0s 26ms/step\n",
      "Hammers for builders the of the\n"
     ]
    }
   ],
   "source": [
    "seed_text = 'Hammers for builders'\n",
    "next_words = 3\n",
    "predict_words(seed_text, next_words)"
   ]
  },
  {
   "cell_type": "code",
   "execution_count": null,
   "metadata": {},
   "outputs": [],
   "source": [
    "# saving the model\n",
    "\n",
    "model.save('text_generator.h5')"
   ]
  },
  {
   "cell_type": "code",
   "execution_count": null,
   "metadata": {},
   "outputs": [],
   "source": [
    "#loading the model \n",
    "from keras.models import load_model\n",
    "model = load_model('text_generator.h5')"
   ]
  }
 ],
 "metadata": {
  "kernelspec": {
   "display_name": "Python 3 (ipykernel)",
   "language": "python",
   "name": "python3"
  },
  "language_info": {
   "codemirror_mode": {
    "name": "ipython",
    "version": 3
   },
   "file_extension": ".py",
   "mimetype": "text/x-python",
   "name": "python",
   "nbconvert_exporter": "python",
   "pygments_lexer": "ipython3",
   "version": "3.9.12"
  }
 },
 "nbformat": 4,
 "nbformat_minor": 4
}
